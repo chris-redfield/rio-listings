{
 "cells": [
  {
   "cell_type": "markdown",
   "metadata": {},
   "source": [
    "# Airbnb Rio de Janeiro\n",
    "## listings\n",
    "\n",
    "dataset: http://insideairbnb.com/get-the-data.html"
   ]
  },
  {
   "cell_type": "code",
   "execution_count": 1,
   "metadata": {},
   "outputs": [],
   "source": [
    "import pandas as pd\n",
    "import json\n",
    "\n",
    "from keplergl import KeplerGl "
   ]
  },
  {
   "cell_type": "code",
   "execution_count": 2,
   "metadata": {},
   "outputs": [],
   "source": [
    "from sklearn.ensemble import RandomForestRegressor\n",
    "from sklearn.model_selection import train_test_split\n",
    "from sklearn.metrics import mean_squared_error, r2_score, classification_report\n",
    "import math\n",
    "import numpy as np\n",
    "import matplotlib.pyplot as plt\n",
    " \n",
    "\n",
    "%matplotlib inline"
   ]
  },
  {
   "cell_type": "code",
   "execution_count": 3,
   "metadata": {},
   "outputs": [
    {
     "name": "stdout",
     "output_type": "stream",
     "text": [
      "Data Shape: (35793, 106)\n"
     ]
    },
    {
     "data": {
      "text/html": [
       "<div>\n",
       "<style scoped>\n",
       "    .dataframe tbody tr th:only-of-type {\n",
       "        vertical-align: middle;\n",
       "    }\n",
       "\n",
       "    .dataframe tbody tr th {\n",
       "        vertical-align: top;\n",
       "    }\n",
       "\n",
       "    .dataframe thead th {\n",
       "        text-align: right;\n",
       "    }\n",
       "</style>\n",
       "<table border=\"1\" class=\"dataframe\">\n",
       "  <thead>\n",
       "    <tr style=\"text-align: right;\">\n",
       "      <th></th>\n",
       "      <th>id</th>\n",
       "      <th>listing_url</th>\n",
       "      <th>scrape_id</th>\n",
       "      <th>last_scraped</th>\n",
       "      <th>name</th>\n",
       "      <th>summary</th>\n",
       "      <th>space</th>\n",
       "      <th>description</th>\n",
       "      <th>experiences_offered</th>\n",
       "      <th>neighborhood_overview</th>\n",
       "      <th>...</th>\n",
       "      <th>instant_bookable</th>\n",
       "      <th>is_business_travel_ready</th>\n",
       "      <th>cancellation_policy</th>\n",
       "      <th>require_guest_profile_picture</th>\n",
       "      <th>require_guest_phone_verification</th>\n",
       "      <th>calculated_host_listings_count</th>\n",
       "      <th>calculated_host_listings_count_entire_homes</th>\n",
       "      <th>calculated_host_listings_count_private_rooms</th>\n",
       "      <th>calculated_host_listings_count_shared_rooms</th>\n",
       "      <th>reviews_per_month</th>\n",
       "    </tr>\n",
       "  </thead>\n",
       "  <tbody>\n",
       "    <tr>\n",
       "      <th>0</th>\n",
       "      <td>17878</td>\n",
       "      <td>https://www.airbnb.com/rooms/17878</td>\n",
       "      <td>20200524171540</td>\n",
       "      <td>2020-05-25</td>\n",
       "      <td>Very Nice 2Br in Copacabana w. balcony, fast WiFi</td>\n",
       "      <td>Discounts for long term stays. Please contact ...</td>\n",
       "      <td>- Beautiful, sunny 2 bedroom (90 square meters...</td>\n",
       "      <td>Discounts for long term stays. Please contact ...</td>\n",
       "      <td>none</td>\n",
       "      <td>This is the one of the bests spots in Rio. Bec...</td>\n",
       "      <td>...</td>\n",
       "      <td>t</td>\n",
       "      <td>f</td>\n",
       "      <td>moderate</td>\n",
       "      <td>f</td>\n",
       "      <td>f</td>\n",
       "      <td>1</td>\n",
       "      <td>1</td>\n",
       "      <td>0</td>\n",
       "      <td>0</td>\n",
       "      <td>2.09</td>\n",
       "    </tr>\n",
       "    <tr>\n",
       "      <th>1</th>\n",
       "      <td>21280</td>\n",
       "      <td>https://www.airbnb.com/rooms/21280</td>\n",
       "      <td>20200524171540</td>\n",
       "      <td>2020-05-25</td>\n",
       "      <td>Renovated Modern Apt. Near Beach</td>\n",
       "      <td>Immaculately renovated top-floor apartment ove...</td>\n",
       "      <td>Immaculately renovated top-floor apartment in ...</td>\n",
       "      <td>Immaculately renovated top-floor apartment ove...</td>\n",
       "      <td>none</td>\n",
       "      <td>This is the best neighborhood in Zona Sul.  Fo...</td>\n",
       "      <td>...</td>\n",
       "      <td>f</td>\n",
       "      <td>f</td>\n",
       "      <td>strict_14_with_grace_period</td>\n",
       "      <td>f</td>\n",
       "      <td>f</td>\n",
       "      <td>1</td>\n",
       "      <td>1</td>\n",
       "      <td>0</td>\n",
       "      <td>0</td>\n",
       "      <td>1.23</td>\n",
       "    </tr>\n",
       "    <tr>\n",
       "      <th>2</th>\n",
       "      <td>25026</td>\n",
       "      <td>https://www.airbnb.com/rooms/25026</td>\n",
       "      <td>20200524171540</td>\n",
       "      <td>2020-05-25</td>\n",
       "      <td>Beautiful Modern Decorated Studio in Copa</td>\n",
       "      <td>Our apartment is a little gem, everyone loves ...</td>\n",
       "      <td>This newly renovated studio (last renovations ...</td>\n",
       "      <td>Our apartment is a little gem, everyone loves ...</td>\n",
       "      <td>none</td>\n",
       "      <td>Copacabana is a lively neighborhood and the ap...</td>\n",
       "      <td>...</td>\n",
       "      <td>f</td>\n",
       "      <td>f</td>\n",
       "      <td>strict_14_with_grace_period</td>\n",
       "      <td>t</td>\n",
       "      <td>t</td>\n",
       "      <td>3</td>\n",
       "      <td>3</td>\n",
       "      <td>0</td>\n",
       "      <td>0</td>\n",
       "      <td>1.96</td>\n",
       "    </tr>\n",
       "    <tr>\n",
       "      <th>3</th>\n",
       "      <td>31560</td>\n",
       "      <td>https://www.airbnb.com/rooms/31560</td>\n",
       "      <td>20200524171540</td>\n",
       "      <td>2020-05-25</td>\n",
       "      <td>NICE &amp; COZY 1BDR - IPANEMA BEACH</td>\n",
       "      <td>This nice and clean 1 bedroom apartment is loc...</td>\n",
       "      <td>This nice and clean 1 bedroom apartment is loc...</td>\n",
       "      <td>This nice and clean 1 bedroom apartment is loc...</td>\n",
       "      <td>none</td>\n",
       "      <td>Die Nachbarschaft von Ipanema ist super lebend...</td>\n",
       "      <td>...</td>\n",
       "      <td>t</td>\n",
       "      <td>f</td>\n",
       "      <td>strict_14_with_grace_period</td>\n",
       "      <td>f</td>\n",
       "      <td>f</td>\n",
       "      <td>1</td>\n",
       "      <td>1</td>\n",
       "      <td>0</td>\n",
       "      <td>0</td>\n",
       "      <td>2.35</td>\n",
       "    </tr>\n",
       "    <tr>\n",
       "      <th>4</th>\n",
       "      <td>35636</td>\n",
       "      <td>https://www.airbnb.com/rooms/35636</td>\n",
       "      <td>20200524171540</td>\n",
       "      <td>2020-05-26</td>\n",
       "      <td>Cosy flat close to Ipanema beach</td>\n",
       "      <td>This cosy apartment  is just a few steps away ...</td>\n",
       "      <td>The location is extremely convenient, safe and...</td>\n",
       "      <td>This cosy apartment  is just a few steps away ...</td>\n",
       "      <td>none</td>\n",
       "      <td>The  apartment street is very quiet and safe ....</td>\n",
       "      <td>...</td>\n",
       "      <td>f</td>\n",
       "      <td>f</td>\n",
       "      <td>strict_14_with_grace_period</td>\n",
       "      <td>t</td>\n",
       "      <td>t</td>\n",
       "      <td>1</td>\n",
       "      <td>1</td>\n",
       "      <td>0</td>\n",
       "      <td>0</td>\n",
       "      <td>2.25</td>\n",
       "    </tr>\n",
       "  </tbody>\n",
       "</table>\n",
       "<p>5 rows × 106 columns</p>\n",
       "</div>"
      ],
      "text/plain": [
       "      id                         listing_url       scrape_id last_scraped  \\\n",
       "0  17878  https://www.airbnb.com/rooms/17878  20200524171540   2020-05-25   \n",
       "1  21280  https://www.airbnb.com/rooms/21280  20200524171540   2020-05-25   \n",
       "2  25026  https://www.airbnb.com/rooms/25026  20200524171540   2020-05-25   \n",
       "3  31560  https://www.airbnb.com/rooms/31560  20200524171540   2020-05-25   \n",
       "4  35636  https://www.airbnb.com/rooms/35636  20200524171540   2020-05-26   \n",
       "\n",
       "                                                name  \\\n",
       "0  Very Nice 2Br in Copacabana w. balcony, fast WiFi   \n",
       "1                   Renovated Modern Apt. Near Beach   \n",
       "2          Beautiful Modern Decorated Studio in Copa   \n",
       "3                   NICE & COZY 1BDR - IPANEMA BEACH   \n",
       "4                   Cosy flat close to Ipanema beach   \n",
       "\n",
       "                                             summary  \\\n",
       "0  Discounts for long term stays. Please contact ...   \n",
       "1  Immaculately renovated top-floor apartment ove...   \n",
       "2  Our apartment is a little gem, everyone loves ...   \n",
       "3  This nice and clean 1 bedroom apartment is loc...   \n",
       "4  This cosy apartment  is just a few steps away ...   \n",
       "\n",
       "                                               space  \\\n",
       "0  - Beautiful, sunny 2 bedroom (90 square meters...   \n",
       "1  Immaculately renovated top-floor apartment in ...   \n",
       "2  This newly renovated studio (last renovations ...   \n",
       "3  This nice and clean 1 bedroom apartment is loc...   \n",
       "4  The location is extremely convenient, safe and...   \n",
       "\n",
       "                                         description experiences_offered  \\\n",
       "0  Discounts for long term stays. Please contact ...                none   \n",
       "1  Immaculately renovated top-floor apartment ove...                none   \n",
       "2  Our apartment is a little gem, everyone loves ...                none   \n",
       "3  This nice and clean 1 bedroom apartment is loc...                none   \n",
       "4  This cosy apartment  is just a few steps away ...                none   \n",
       "\n",
       "                               neighborhood_overview  ... instant_bookable  \\\n",
       "0  This is the one of the bests spots in Rio. Bec...  ...                t   \n",
       "1  This is the best neighborhood in Zona Sul.  Fo...  ...                f   \n",
       "2  Copacabana is a lively neighborhood and the ap...  ...                f   \n",
       "3  Die Nachbarschaft von Ipanema ist super lebend...  ...                t   \n",
       "4  The  apartment street is very quiet and safe ....  ...                f   \n",
       "\n",
       "  is_business_travel_ready          cancellation_policy  \\\n",
       "0                        f                     moderate   \n",
       "1                        f  strict_14_with_grace_period   \n",
       "2                        f  strict_14_with_grace_period   \n",
       "3                        f  strict_14_with_grace_period   \n",
       "4                        f  strict_14_with_grace_period   \n",
       "\n",
       "  require_guest_profile_picture require_guest_phone_verification  \\\n",
       "0                             f                                f   \n",
       "1                             f                                f   \n",
       "2                             t                                t   \n",
       "3                             f                                f   \n",
       "4                             t                                t   \n",
       "\n",
       "   calculated_host_listings_count  \\\n",
       "0                               1   \n",
       "1                               1   \n",
       "2                               3   \n",
       "3                               1   \n",
       "4                               1   \n",
       "\n",
       "   calculated_host_listings_count_entire_homes  \\\n",
       "0                                            1   \n",
       "1                                            1   \n",
       "2                                            3   \n",
       "3                                            1   \n",
       "4                                            1   \n",
       "\n",
       "  calculated_host_listings_count_private_rooms  \\\n",
       "0                                            0   \n",
       "1                                            0   \n",
       "2                                            0   \n",
       "3                                            0   \n",
       "4                                            0   \n",
       "\n",
       "   calculated_host_listings_count_shared_rooms  reviews_per_month  \n",
       "0                                            0               2.09  \n",
       "1                                            0               1.23  \n",
       "2                                            0               1.96  \n",
       "3                                            0               2.35  \n",
       "4                                            0               2.25  \n",
       "\n",
       "[5 rows x 106 columns]"
      ]
     },
     "execution_count": 3,
     "metadata": {},
     "output_type": "execute_result"
    }
   ],
   "source": [
    "df_listings = pd.read_csv(\"data/listings.csv\", low_memory=False)\n",
    "print(\"Data Shape:\", df_listings.shape)\n",
    "df_listings.head()"
   ]
  },
  {
   "cell_type": "markdown",
   "metadata": {},
   "source": [
    "# EDA\n",
    "## Checando colunas e seus tipos"
   ]
  },
  {
   "cell_type": "code",
   "execution_count": 4,
   "metadata": {},
   "outputs": [
    {
     "name": "stdout",
     "output_type": "stream",
     "text": [
      "name: id\n",
      "type: int64\n",
      "name: listing_url\n",
      "type: object\n",
      "name: scrape_id\n",
      "type: int64\n",
      "name: last_scraped\n",
      "type: object\n",
      "name: name\n",
      "type: object\n",
      "name: summary\n",
      "type: object\n",
      "name: space\n",
      "type: object\n",
      "name: description\n",
      "type: object\n",
      "name: experiences_offered\n",
      "type: object\n",
      "name: neighborhood_overview\n",
      "type: object\n",
      "name: notes\n",
      "type: object\n",
      "name: transit\n",
      "type: object\n",
      "name: access\n",
      "type: object\n",
      "name: interaction\n",
      "type: object\n",
      "name: house_rules\n",
      "type: object\n",
      "name: thumbnail_url\n",
      "type: float64\n",
      "name: medium_url\n",
      "type: float64\n",
      "name: picture_url\n",
      "type: object\n",
      "name: xl_picture_url\n",
      "type: float64\n",
      "name: host_id\n",
      "type: int64\n",
      "name: host_url\n",
      "type: object\n",
      "name: host_name\n",
      "type: object\n",
      "name: host_since\n",
      "type: object\n",
      "name: host_location\n",
      "type: object\n",
      "name: host_about\n",
      "type: object\n",
      "name: host_response_time\n",
      "type: object\n",
      "name: host_response_rate\n",
      "type: object\n",
      "name: host_acceptance_rate\n",
      "type: object\n",
      "name: host_is_superhost\n",
      "type: object\n",
      "name: host_thumbnail_url\n",
      "type: object\n",
      "name: host_picture_url\n",
      "type: object\n",
      "name: host_neighbourhood\n",
      "type: object\n",
      "name: host_listings_count\n",
      "type: float64\n",
      "name: host_total_listings_count\n",
      "type: float64\n",
      "name: host_verifications\n",
      "type: object\n",
      "name: host_has_profile_pic\n",
      "type: object\n",
      "name: host_identity_verified\n",
      "type: object\n",
      "name: street\n",
      "type: object\n",
      "name: neighbourhood\n",
      "type: object\n",
      "name: neighbourhood_cleansed\n",
      "type: object\n",
      "name: neighbourhood_group_cleansed\n",
      "type: float64\n",
      "name: city\n",
      "type: object\n",
      "name: state\n",
      "type: object\n",
      "name: zipcode\n",
      "type: object\n",
      "name: market\n",
      "type: object\n",
      "name: smart_location\n",
      "type: object\n",
      "name: country_code\n",
      "type: object\n",
      "name: country\n",
      "type: object\n",
      "name: latitude\n",
      "type: float64\n",
      "name: longitude\n",
      "type: float64\n",
      "name: is_location_exact\n",
      "type: object\n",
      "name: property_type\n",
      "type: object\n",
      "name: room_type\n",
      "type: object\n",
      "name: accommodates\n",
      "type: int64\n",
      "name: bathrooms\n",
      "type: float64\n",
      "name: bedrooms\n",
      "type: float64\n",
      "name: beds\n",
      "type: float64\n",
      "name: bed_type\n",
      "type: object\n",
      "name: amenities\n",
      "type: object\n",
      "name: square_feet\n",
      "type: float64\n",
      "name: price\n",
      "type: object\n",
      "name: weekly_price\n",
      "type: object\n",
      "name: monthly_price\n",
      "type: object\n",
      "name: security_deposit\n",
      "type: object\n",
      "name: cleaning_fee\n",
      "type: object\n",
      "name: guests_included\n",
      "type: int64\n",
      "name: extra_people\n",
      "type: object\n",
      "name: minimum_nights\n",
      "type: int64\n",
      "name: maximum_nights\n",
      "type: int64\n",
      "name: minimum_minimum_nights\n",
      "type: int64\n",
      "name: maximum_minimum_nights\n",
      "type: int64\n",
      "name: minimum_maximum_nights\n",
      "type: int64\n",
      "name: maximum_maximum_nights\n",
      "type: int64\n",
      "name: minimum_nights_avg_ntm\n",
      "type: float64\n",
      "name: maximum_nights_avg_ntm\n",
      "type: float64\n",
      "name: calendar_updated\n",
      "type: object\n",
      "name: has_availability\n",
      "type: object\n",
      "name: availability_30\n",
      "type: int64\n",
      "name: availability_60\n",
      "type: int64\n",
      "name: availability_90\n",
      "type: int64\n",
      "name: availability_365\n",
      "type: int64\n",
      "name: calendar_last_scraped\n",
      "type: object\n",
      "name: number_of_reviews\n",
      "type: int64\n",
      "name: number_of_reviews_ltm\n",
      "type: int64\n",
      "name: first_review\n",
      "type: object\n",
      "name: last_review\n",
      "type: object\n",
      "name: review_scores_rating\n",
      "type: float64\n",
      "name: review_scores_accuracy\n",
      "type: float64\n",
      "name: review_scores_cleanliness\n",
      "type: float64\n",
      "name: review_scores_checkin\n",
      "type: float64\n",
      "name: review_scores_communication\n",
      "type: float64\n",
      "name: review_scores_location\n",
      "type: float64\n",
      "name: review_scores_value\n",
      "type: float64\n",
      "name: requires_license\n",
      "type: object\n",
      "name: license\n",
      "type: object\n",
      "name: jurisdiction_names\n",
      "type: float64\n",
      "name: instant_bookable\n",
      "type: object\n",
      "name: is_business_travel_ready\n",
      "type: object\n",
      "name: cancellation_policy\n",
      "type: object\n",
      "name: require_guest_profile_picture\n",
      "type: object\n",
      "name: require_guest_phone_verification\n",
      "type: object\n",
      "name: calculated_host_listings_count\n",
      "type: int64\n",
      "name: calculated_host_listings_count_entire_homes\n",
      "type: int64\n",
      "name: calculated_host_listings_count_private_rooms\n",
      "type: int64\n",
      "name: calculated_host_listings_count_shared_rooms\n",
      "type: int64\n",
      "name: reviews_per_month\n",
      "type: float64\n"
     ]
    }
   ],
   "source": [
    "for idx, dtype in zip(df_listings.dtypes.index, df_listings.dtypes):\n",
    "    print(\"name:\", idx)\n",
    "    print(\"type:\", dtype)"
   ]
  },
  {
   "cell_type": "code",
   "execution_count": 5,
   "metadata": {},
   "outputs": [
    {
     "data": {
      "text/html": [
       "<div>\n",
       "<style scoped>\n",
       "    .dataframe tbody tr th:only-of-type {\n",
       "        vertical-align: middle;\n",
       "    }\n",
       "\n",
       "    .dataframe tbody tr th {\n",
       "        vertical-align: top;\n",
       "    }\n",
       "\n",
       "    .dataframe thead th {\n",
       "        text-align: right;\n",
       "    }\n",
       "</style>\n",
       "<table border=\"1\" class=\"dataframe\">\n",
       "  <thead>\n",
       "    <tr style=\"text-align: right;\">\n",
       "      <th></th>\n",
       "      <th>count</th>\n",
       "      <th>mean</th>\n",
       "      <th>std</th>\n",
       "      <th>min</th>\n",
       "      <th>25%</th>\n",
       "      <th>50%</th>\n",
       "      <th>75%</th>\n",
       "      <th>max</th>\n",
       "    </tr>\n",
       "  </thead>\n",
       "  <tbody>\n",
       "    <tr>\n",
       "      <th>id</th>\n",
       "      <td>35793.0</td>\n",
       "      <td>2.129684e+07</td>\n",
       "      <td>1.368508e+07</td>\n",
       "      <td>1.787800e+04</td>\n",
       "      <td>1.098687e+07</td>\n",
       "      <td>1.704652e+07</td>\n",
       "      <td>3.428384e+07</td>\n",
       "      <td>4.352478e+07</td>\n",
       "    </tr>\n",
       "    <tr>\n",
       "      <th>scrape_id</th>\n",
       "      <td>35793.0</td>\n",
       "      <td>2.020052e+13</td>\n",
       "      <td>1.023452e+01</td>\n",
       "      <td>2.020052e+13</td>\n",
       "      <td>2.020052e+13</td>\n",
       "      <td>2.020052e+13</td>\n",
       "      <td>2.020052e+13</td>\n",
       "      <td>2.020052e+13</td>\n",
       "    </tr>\n",
       "    <tr>\n",
       "      <th>thumbnail_url</th>\n",
       "      <td>0.0</td>\n",
       "      <td>NaN</td>\n",
       "      <td>NaN</td>\n",
       "      <td>NaN</td>\n",
       "      <td>NaN</td>\n",
       "      <td>NaN</td>\n",
       "      <td>NaN</td>\n",
       "      <td>NaN</td>\n",
       "    </tr>\n",
       "    <tr>\n",
       "      <th>medium_url</th>\n",
       "      <td>0.0</td>\n",
       "      <td>NaN</td>\n",
       "      <td>NaN</td>\n",
       "      <td>NaN</td>\n",
       "      <td>NaN</td>\n",
       "      <td>NaN</td>\n",
       "      <td>NaN</td>\n",
       "      <td>NaN</td>\n",
       "    </tr>\n",
       "    <tr>\n",
       "      <th>xl_picture_url</th>\n",
       "      <td>0.0</td>\n",
       "      <td>NaN</td>\n",
       "      <td>NaN</td>\n",
       "      <td>NaN</td>\n",
       "      <td>NaN</td>\n",
       "      <td>NaN</td>\n",
       "      <td>NaN</td>\n",
       "      <td>NaN</td>\n",
       "    </tr>\n",
       "    <tr>\n",
       "      <th>host_id</th>\n",
       "      <td>35793.0</td>\n",
       "      <td>8.492397e+07</td>\n",
       "      <td>8.916201e+07</td>\n",
       "      <td>1.173900e+04</td>\n",
       "      <td>1.508375e+07</td>\n",
       "      <td>5.640055e+07</td>\n",
       "      <td>1.118898e+08</td>\n",
       "      <td>3.468845e+08</td>\n",
       "    </tr>\n",
       "    <tr>\n",
       "      <th>host_listings_count</th>\n",
       "      <td>35788.0</td>\n",
       "      <td>1.868129e+01</td>\n",
       "      <td>1.322389e+02</td>\n",
       "      <td>0.000000e+00</td>\n",
       "      <td>1.000000e+00</td>\n",
       "      <td>1.000000e+00</td>\n",
       "      <td>3.000000e+00</td>\n",
       "      <td>1.379000e+03</td>\n",
       "    </tr>\n",
       "    <tr>\n",
       "      <th>host_total_listings_count</th>\n",
       "      <td>35788.0</td>\n",
       "      <td>1.868129e+01</td>\n",
       "      <td>1.322389e+02</td>\n",
       "      <td>0.000000e+00</td>\n",
       "      <td>1.000000e+00</td>\n",
       "      <td>1.000000e+00</td>\n",
       "      <td>3.000000e+00</td>\n",
       "      <td>1.379000e+03</td>\n",
       "    </tr>\n",
       "    <tr>\n",
       "      <th>neighbourhood_group_cleansed</th>\n",
       "      <td>0.0</td>\n",
       "      <td>NaN</td>\n",
       "      <td>NaN</td>\n",
       "      <td>NaN</td>\n",
       "      <td>NaN</td>\n",
       "      <td>NaN</td>\n",
       "      <td>NaN</td>\n",
       "      <td>NaN</td>\n",
       "    </tr>\n",
       "    <tr>\n",
       "      <th>latitude</th>\n",
       "      <td>35793.0</td>\n",
       "      <td>-2.296522e+01</td>\n",
       "      <td>3.488945e-02</td>\n",
       "      <td>-2.307340e+01</td>\n",
       "      <td>-2.298456e+01</td>\n",
       "      <td>-2.297066e+01</td>\n",
       "      <td>-2.294693e+01</td>\n",
       "      <td>-2.275038e+01</td>\n",
       "    </tr>\n",
       "    <tr>\n",
       "      <th>longitude</th>\n",
       "      <td>35793.0</td>\n",
       "      <td>-4.325223e+01</td>\n",
       "      <td>9.691194e-02</td>\n",
       "      <td>-4.373709e+01</td>\n",
       "      <td>-4.331959e+01</td>\n",
       "      <td>-4.319872e+01</td>\n",
       "      <td>-4.318648e+01</td>\n",
       "      <td>-4.310462e+01</td>\n",
       "    </tr>\n",
       "    <tr>\n",
       "      <th>accommodates</th>\n",
       "      <td>35793.0</td>\n",
       "      <td>4.189646e+00</td>\n",
       "      <td>2.628836e+00</td>\n",
       "      <td>1.000000e+00</td>\n",
       "      <td>2.000000e+00</td>\n",
       "      <td>4.000000e+00</td>\n",
       "      <td>5.000000e+00</td>\n",
       "      <td>1.600000e+02</td>\n",
       "    </tr>\n",
       "    <tr>\n",
       "      <th>bathrooms</th>\n",
       "      <td>35726.0</td>\n",
       "      <td>1.670548e+00</td>\n",
       "      <td>1.046308e+00</td>\n",
       "      <td>0.000000e+00</td>\n",
       "      <td>1.000000e+00</td>\n",
       "      <td>1.000000e+00</td>\n",
       "      <td>2.000000e+00</td>\n",
       "      <td>2.000000e+01</td>\n",
       "    </tr>\n",
       "    <tr>\n",
       "      <th>bedrooms</th>\n",
       "      <td>35720.0</td>\n",
       "      <td>1.623712e+00</td>\n",
       "      <td>1.088375e+00</td>\n",
       "      <td>0.000000e+00</td>\n",
       "      <td>1.000000e+00</td>\n",
       "      <td>1.000000e+00</td>\n",
       "      <td>2.000000e+00</td>\n",
       "      <td>3.000000e+01</td>\n",
       "    </tr>\n",
       "    <tr>\n",
       "      <th>beds</th>\n",
       "      <td>35464.0</td>\n",
       "      <td>2.546413e+00</td>\n",
       "      <td>2.079040e+00</td>\n",
       "      <td>0.000000e+00</td>\n",
       "      <td>1.000000e+00</td>\n",
       "      <td>2.000000e+00</td>\n",
       "      <td>3.000000e+00</td>\n",
       "      <td>6.200000e+01</td>\n",
       "    </tr>\n",
       "    <tr>\n",
       "      <th>square_feet</th>\n",
       "      <td>464.0</td>\n",
       "      <td>5.243082e+02</td>\n",
       "      <td>9.751031e+02</td>\n",
       "      <td>0.000000e+00</td>\n",
       "      <td>0.000000e+00</td>\n",
       "      <td>1.940000e+02</td>\n",
       "      <td>7.530000e+02</td>\n",
       "      <td>1.076400e+04</td>\n",
       "    </tr>\n",
       "    <tr>\n",
       "      <th>guests_included</th>\n",
       "      <td>35793.0</td>\n",
       "      <td>1.733328e+00</td>\n",
       "      <td>1.602775e+00</td>\n",
       "      <td>1.000000e+00</td>\n",
       "      <td>1.000000e+00</td>\n",
       "      <td>1.000000e+00</td>\n",
       "      <td>2.000000e+00</td>\n",
       "      <td>3.600000e+01</td>\n",
       "    </tr>\n",
       "    <tr>\n",
       "      <th>minimum_nights</th>\n",
       "      <td>35793.0</td>\n",
       "      <td>4.797586e+00</td>\n",
       "      <td>2.184414e+01</td>\n",
       "      <td>1.000000e+00</td>\n",
       "      <td>1.000000e+00</td>\n",
       "      <td>2.000000e+00</td>\n",
       "      <td>4.000000e+00</td>\n",
       "      <td>1.123000e+03</td>\n",
       "    </tr>\n",
       "    <tr>\n",
       "      <th>maximum_nights</th>\n",
       "      <td>35793.0</td>\n",
       "      <td>2.888416e+04</td>\n",
       "      <td>5.285943e+06</td>\n",
       "      <td>1.000000e+00</td>\n",
       "      <td>3.000000e+01</td>\n",
       "      <td>1.125000e+03</td>\n",
       "      <td>1.125000e+03</td>\n",
       "      <td>1.000000e+09</td>\n",
       "    </tr>\n",
       "    <tr>\n",
       "      <th>minimum_minimum_nights</th>\n",
       "      <td>35793.0</td>\n",
       "      <td>4.683262e+00</td>\n",
       "      <td>2.086736e+01</td>\n",
       "      <td>1.000000e+00</td>\n",
       "      <td>1.000000e+00</td>\n",
       "      <td>2.000000e+00</td>\n",
       "      <td>4.000000e+00</td>\n",
       "      <td>1.095000e+03</td>\n",
       "    </tr>\n",
       "    <tr>\n",
       "      <th>maximum_minimum_nights</th>\n",
       "      <td>35793.0</td>\n",
       "      <td>5.016232e+00</td>\n",
       "      <td>2.108840e+01</td>\n",
       "      <td>1.000000e+00</td>\n",
       "      <td>1.000000e+00</td>\n",
       "      <td>3.000000e+00</td>\n",
       "      <td>5.000000e+00</td>\n",
       "      <td>1.095000e+03</td>\n",
       "    </tr>\n",
       "    <tr>\n",
       "      <th>minimum_maximum_nights</th>\n",
       "      <td>35793.0</td>\n",
       "      <td>2.896746e+04</td>\n",
       "      <td>5.285943e+06</td>\n",
       "      <td>1.000000e+00</td>\n",
       "      <td>4.000000e+01</td>\n",
       "      <td>1.125000e+03</td>\n",
       "      <td>1.125000e+03</td>\n",
       "      <td>1.000000e+09</td>\n",
       "    </tr>\n",
       "    <tr>\n",
       "      <th>maximum_maximum_nights</th>\n",
       "      <td>35793.0</td>\n",
       "      <td>2.897071e+04</td>\n",
       "      <td>5.285942e+06</td>\n",
       "      <td>1.000000e+00</td>\n",
       "      <td>4.200000e+01</td>\n",
       "      <td>1.125000e+03</td>\n",
       "      <td>1.125000e+03</td>\n",
       "      <td>1.000000e+09</td>\n",
       "    </tr>\n",
       "    <tr>\n",
       "      <th>minimum_nights_avg_ntm</th>\n",
       "      <td>35793.0</td>\n",
       "      <td>4.794714e+00</td>\n",
       "      <td>2.096357e+01</td>\n",
       "      <td>1.000000e+00</td>\n",
       "      <td>1.000000e+00</td>\n",
       "      <td>2.100000e+00</td>\n",
       "      <td>4.000000e+00</td>\n",
       "      <td>1.095000e+03</td>\n",
       "    </tr>\n",
       "    <tr>\n",
       "      <th>maximum_nights_avg_ntm</th>\n",
       "      <td>35793.0</td>\n",
       "      <td>2.896948e+04</td>\n",
       "      <td>5.285942e+06</td>\n",
       "      <td>1.000000e+00</td>\n",
       "      <td>4.100000e+01</td>\n",
       "      <td>1.125000e+03</td>\n",
       "      <td>1.125000e+03</td>\n",
       "      <td>1.000000e+09</td>\n",
       "    </tr>\n",
       "    <tr>\n",
       "      <th>availability_30</th>\n",
       "      <td>35793.0</td>\n",
       "      <td>1.654751e+01</td>\n",
       "      <td>1.395135e+01</td>\n",
       "      <td>0.000000e+00</td>\n",
       "      <td>0.000000e+00</td>\n",
       "      <td>2.700000e+01</td>\n",
       "      <td>3.000000e+01</td>\n",
       "      <td>3.000000e+01</td>\n",
       "    </tr>\n",
       "    <tr>\n",
       "      <th>availability_60</th>\n",
       "      <td>35793.0</td>\n",
       "      <td>3.435588e+01</td>\n",
       "      <td>2.785255e+01</td>\n",
       "      <td>0.000000e+00</td>\n",
       "      <td>0.000000e+00</td>\n",
       "      <td>5.400000e+01</td>\n",
       "      <td>6.000000e+01</td>\n",
       "      <td>6.000000e+01</td>\n",
       "    </tr>\n",
       "    <tr>\n",
       "      <th>availability_90</th>\n",
       "      <td>35793.0</td>\n",
       "      <td>5.248294e+01</td>\n",
       "      <td>4.160116e+01</td>\n",
       "      <td>0.000000e+00</td>\n",
       "      <td>0.000000e+00</td>\n",
       "      <td>8.300000e+01</td>\n",
       "      <td>8.900000e+01</td>\n",
       "      <td>9.000000e+01</td>\n",
       "    </tr>\n",
       "    <tr>\n",
       "      <th>availability_365</th>\n",
       "      <td>35793.0</td>\n",
       "      <td>1.719005e+02</td>\n",
       "      <td>1.546474e+02</td>\n",
       "      <td>0.000000e+00</td>\n",
       "      <td>0.000000e+00</td>\n",
       "      <td>1.600000e+02</td>\n",
       "      <td>3.620000e+02</td>\n",
       "      <td>3.650000e+02</td>\n",
       "    </tr>\n",
       "    <tr>\n",
       "      <th>number_of_reviews</th>\n",
       "      <td>35793.0</td>\n",
       "      <td>9.747576e+00</td>\n",
       "      <td>2.582857e+01</td>\n",
       "      <td>0.000000e+00</td>\n",
       "      <td>0.000000e+00</td>\n",
       "      <td>1.000000e+00</td>\n",
       "      <td>6.000000e+00</td>\n",
       "      <td>4.010000e+02</td>\n",
       "    </tr>\n",
       "    <tr>\n",
       "      <th>number_of_reviews_ltm</th>\n",
       "      <td>35793.0</td>\n",
       "      <td>3.203140e+00</td>\n",
       "      <td>7.303926e+00</td>\n",
       "      <td>0.000000e+00</td>\n",
       "      <td>0.000000e+00</td>\n",
       "      <td>0.000000e+00</td>\n",
       "      <td>2.000000e+00</td>\n",
       "      <td>1.010000e+02</td>\n",
       "    </tr>\n",
       "    <tr>\n",
       "      <th>review_scores_rating</th>\n",
       "      <td>20002.0</td>\n",
       "      <td>9.457584e+01</td>\n",
       "      <td>9.585185e+00</td>\n",
       "      <td>2.000000e+01</td>\n",
       "      <td>9.300000e+01</td>\n",
       "      <td>9.800000e+01</td>\n",
       "      <td>1.000000e+02</td>\n",
       "      <td>1.000000e+02</td>\n",
       "    </tr>\n",
       "    <tr>\n",
       "      <th>review_scores_accuracy</th>\n",
       "      <td>19983.0</td>\n",
       "      <td>9.640995e+00</td>\n",
       "      <td>9.232508e-01</td>\n",
       "      <td>2.000000e+00</td>\n",
       "      <td>1.000000e+01</td>\n",
       "      <td>1.000000e+01</td>\n",
       "      <td>1.000000e+01</td>\n",
       "      <td>1.000000e+01</td>\n",
       "    </tr>\n",
       "    <tr>\n",
       "      <th>review_scores_cleanliness</th>\n",
       "      <td>19988.0</td>\n",
       "      <td>9.393336e+00</td>\n",
       "      <td>1.128320e+00</td>\n",
       "      <td>2.000000e+00</td>\n",
       "      <td>9.000000e+00</td>\n",
       "      <td>1.000000e+01</td>\n",
       "      <td>1.000000e+01</td>\n",
       "      <td>1.000000e+01</td>\n",
       "    </tr>\n",
       "    <tr>\n",
       "      <th>review_scores_checkin</th>\n",
       "      <td>19982.0</td>\n",
       "      <td>9.803924e+00</td>\n",
       "      <td>7.264227e-01</td>\n",
       "      <td>2.000000e+00</td>\n",
       "      <td>1.000000e+01</td>\n",
       "      <td>1.000000e+01</td>\n",
       "      <td>1.000000e+01</td>\n",
       "      <td>1.000000e+01</td>\n",
       "    </tr>\n",
       "    <tr>\n",
       "      <th>review_scores_communication</th>\n",
       "      <td>19990.0</td>\n",
       "      <td>9.758729e+00</td>\n",
       "      <td>8.045021e-01</td>\n",
       "      <td>2.000000e+00</td>\n",
       "      <td>1.000000e+01</td>\n",
       "      <td>1.000000e+01</td>\n",
       "      <td>1.000000e+01</td>\n",
       "      <td>1.000000e+01</td>\n",
       "    </tr>\n",
       "    <tr>\n",
       "      <th>review_scores_location</th>\n",
       "      <td>19984.0</td>\n",
       "      <td>9.754654e+00</td>\n",
       "      <td>7.370652e-01</td>\n",
       "      <td>2.000000e+00</td>\n",
       "      <td>1.000000e+01</td>\n",
       "      <td>1.000000e+01</td>\n",
       "      <td>1.000000e+01</td>\n",
       "      <td>1.000000e+01</td>\n",
       "    </tr>\n",
       "    <tr>\n",
       "      <th>review_scores_value</th>\n",
       "      <td>19986.0</td>\n",
       "      <td>9.284899e+00</td>\n",
       "      <td>1.061572e+00</td>\n",
       "      <td>2.000000e+00</td>\n",
       "      <td>9.000000e+00</td>\n",
       "      <td>1.000000e+01</td>\n",
       "      <td>1.000000e+01</td>\n",
       "      <td>1.000000e+01</td>\n",
       "    </tr>\n",
       "    <tr>\n",
       "      <th>jurisdiction_names</th>\n",
       "      <td>0.0</td>\n",
       "      <td>NaN</td>\n",
       "      <td>NaN</td>\n",
       "      <td>NaN</td>\n",
       "      <td>NaN</td>\n",
       "      <td>NaN</td>\n",
       "      <td>NaN</td>\n",
       "      <td>NaN</td>\n",
       "    </tr>\n",
       "    <tr>\n",
       "      <th>calculated_host_listings_count</th>\n",
       "      <td>35793.0</td>\n",
       "      <td>8.189059e+00</td>\n",
       "      <td>3.483069e+01</td>\n",
       "      <td>1.000000e+00</td>\n",
       "      <td>1.000000e+00</td>\n",
       "      <td>1.000000e+00</td>\n",
       "      <td>3.000000e+00</td>\n",
       "      <td>3.240000e+02</td>\n",
       "    </tr>\n",
       "    <tr>\n",
       "      <th>calculated_host_listings_count_entire_homes</th>\n",
       "      <td>35793.0</td>\n",
       "      <td>7.311038e+00</td>\n",
       "      <td>3.449415e+01</td>\n",
       "      <td>0.000000e+00</td>\n",
       "      <td>1.000000e+00</td>\n",
       "      <td>1.000000e+00</td>\n",
       "      <td>2.000000e+00</td>\n",
       "      <td>3.220000e+02</td>\n",
       "    </tr>\n",
       "    <tr>\n",
       "      <th>calculated_host_listings_count_private_rooms</th>\n",
       "      <td>35793.0</td>\n",
       "      <td>7.505937e-01</td>\n",
       "      <td>1.639049e+00</td>\n",
       "      <td>0.000000e+00</td>\n",
       "      <td>0.000000e+00</td>\n",
       "      <td>0.000000e+00</td>\n",
       "      <td>1.000000e+00</td>\n",
       "      <td>2.000000e+01</td>\n",
       "    </tr>\n",
       "    <tr>\n",
       "      <th>calculated_host_listings_count_shared_rooms</th>\n",
       "      <td>35793.0</td>\n",
       "      <td>8.585478e-02</td>\n",
       "      <td>6.473953e-01</td>\n",
       "      <td>0.000000e+00</td>\n",
       "      <td>0.000000e+00</td>\n",
       "      <td>0.000000e+00</td>\n",
       "      <td>0.000000e+00</td>\n",
       "      <td>1.100000e+01</td>\n",
       "    </tr>\n",
       "    <tr>\n",
       "      <th>reviews_per_month</th>\n",
       "      <td>20887.0</td>\n",
       "      <td>5.819553e-01</td>\n",
       "      <td>7.633314e-01</td>\n",
       "      <td>1.000000e-02</td>\n",
       "      <td>1.200000e-01</td>\n",
       "      <td>3.000000e-01</td>\n",
       "      <td>7.200000e-01</td>\n",
       "      <td>8.490000e+00</td>\n",
       "    </tr>\n",
       "  </tbody>\n",
       "</table>\n",
       "</div>"
      ],
      "text/plain": [
       "                                                count          mean  \\\n",
       "id                                            35793.0  2.129684e+07   \n",
       "scrape_id                                     35793.0  2.020052e+13   \n",
       "thumbnail_url                                     0.0           NaN   \n",
       "medium_url                                        0.0           NaN   \n",
       "xl_picture_url                                    0.0           NaN   \n",
       "host_id                                       35793.0  8.492397e+07   \n",
       "host_listings_count                           35788.0  1.868129e+01   \n",
       "host_total_listings_count                     35788.0  1.868129e+01   \n",
       "neighbourhood_group_cleansed                      0.0           NaN   \n",
       "latitude                                      35793.0 -2.296522e+01   \n",
       "longitude                                     35793.0 -4.325223e+01   \n",
       "accommodates                                  35793.0  4.189646e+00   \n",
       "bathrooms                                     35726.0  1.670548e+00   \n",
       "bedrooms                                      35720.0  1.623712e+00   \n",
       "beds                                          35464.0  2.546413e+00   \n",
       "square_feet                                     464.0  5.243082e+02   \n",
       "guests_included                               35793.0  1.733328e+00   \n",
       "minimum_nights                                35793.0  4.797586e+00   \n",
       "maximum_nights                                35793.0  2.888416e+04   \n",
       "minimum_minimum_nights                        35793.0  4.683262e+00   \n",
       "maximum_minimum_nights                        35793.0  5.016232e+00   \n",
       "minimum_maximum_nights                        35793.0  2.896746e+04   \n",
       "maximum_maximum_nights                        35793.0  2.897071e+04   \n",
       "minimum_nights_avg_ntm                        35793.0  4.794714e+00   \n",
       "maximum_nights_avg_ntm                        35793.0  2.896948e+04   \n",
       "availability_30                               35793.0  1.654751e+01   \n",
       "availability_60                               35793.0  3.435588e+01   \n",
       "availability_90                               35793.0  5.248294e+01   \n",
       "availability_365                              35793.0  1.719005e+02   \n",
       "number_of_reviews                             35793.0  9.747576e+00   \n",
       "number_of_reviews_ltm                         35793.0  3.203140e+00   \n",
       "review_scores_rating                          20002.0  9.457584e+01   \n",
       "review_scores_accuracy                        19983.0  9.640995e+00   \n",
       "review_scores_cleanliness                     19988.0  9.393336e+00   \n",
       "review_scores_checkin                         19982.0  9.803924e+00   \n",
       "review_scores_communication                   19990.0  9.758729e+00   \n",
       "review_scores_location                        19984.0  9.754654e+00   \n",
       "review_scores_value                           19986.0  9.284899e+00   \n",
       "jurisdiction_names                                0.0           NaN   \n",
       "calculated_host_listings_count                35793.0  8.189059e+00   \n",
       "calculated_host_listings_count_entire_homes   35793.0  7.311038e+00   \n",
       "calculated_host_listings_count_private_rooms  35793.0  7.505937e-01   \n",
       "calculated_host_listings_count_shared_rooms   35793.0  8.585478e-02   \n",
       "reviews_per_month                             20887.0  5.819553e-01   \n",
       "\n",
       "                                                       std           min  \\\n",
       "id                                            1.368508e+07  1.787800e+04   \n",
       "scrape_id                                     1.023452e+01  2.020052e+13   \n",
       "thumbnail_url                                          NaN           NaN   \n",
       "medium_url                                             NaN           NaN   \n",
       "xl_picture_url                                         NaN           NaN   \n",
       "host_id                                       8.916201e+07  1.173900e+04   \n",
       "host_listings_count                           1.322389e+02  0.000000e+00   \n",
       "host_total_listings_count                     1.322389e+02  0.000000e+00   \n",
       "neighbourhood_group_cleansed                           NaN           NaN   \n",
       "latitude                                      3.488945e-02 -2.307340e+01   \n",
       "longitude                                     9.691194e-02 -4.373709e+01   \n",
       "accommodates                                  2.628836e+00  1.000000e+00   \n",
       "bathrooms                                     1.046308e+00  0.000000e+00   \n",
       "bedrooms                                      1.088375e+00  0.000000e+00   \n",
       "beds                                          2.079040e+00  0.000000e+00   \n",
       "square_feet                                   9.751031e+02  0.000000e+00   \n",
       "guests_included                               1.602775e+00  1.000000e+00   \n",
       "minimum_nights                                2.184414e+01  1.000000e+00   \n",
       "maximum_nights                                5.285943e+06  1.000000e+00   \n",
       "minimum_minimum_nights                        2.086736e+01  1.000000e+00   \n",
       "maximum_minimum_nights                        2.108840e+01  1.000000e+00   \n",
       "minimum_maximum_nights                        5.285943e+06  1.000000e+00   \n",
       "maximum_maximum_nights                        5.285942e+06  1.000000e+00   \n",
       "minimum_nights_avg_ntm                        2.096357e+01  1.000000e+00   \n",
       "maximum_nights_avg_ntm                        5.285942e+06  1.000000e+00   \n",
       "availability_30                               1.395135e+01  0.000000e+00   \n",
       "availability_60                               2.785255e+01  0.000000e+00   \n",
       "availability_90                               4.160116e+01  0.000000e+00   \n",
       "availability_365                              1.546474e+02  0.000000e+00   \n",
       "number_of_reviews                             2.582857e+01  0.000000e+00   \n",
       "number_of_reviews_ltm                         7.303926e+00  0.000000e+00   \n",
       "review_scores_rating                          9.585185e+00  2.000000e+01   \n",
       "review_scores_accuracy                        9.232508e-01  2.000000e+00   \n",
       "review_scores_cleanliness                     1.128320e+00  2.000000e+00   \n",
       "review_scores_checkin                         7.264227e-01  2.000000e+00   \n",
       "review_scores_communication                   8.045021e-01  2.000000e+00   \n",
       "review_scores_location                        7.370652e-01  2.000000e+00   \n",
       "review_scores_value                           1.061572e+00  2.000000e+00   \n",
       "jurisdiction_names                                     NaN           NaN   \n",
       "calculated_host_listings_count                3.483069e+01  1.000000e+00   \n",
       "calculated_host_listings_count_entire_homes   3.449415e+01  0.000000e+00   \n",
       "calculated_host_listings_count_private_rooms  1.639049e+00  0.000000e+00   \n",
       "calculated_host_listings_count_shared_rooms   6.473953e-01  0.000000e+00   \n",
       "reviews_per_month                             7.633314e-01  1.000000e-02   \n",
       "\n",
       "                                                       25%           50%  \\\n",
       "id                                            1.098687e+07  1.704652e+07   \n",
       "scrape_id                                     2.020052e+13  2.020052e+13   \n",
       "thumbnail_url                                          NaN           NaN   \n",
       "medium_url                                             NaN           NaN   \n",
       "xl_picture_url                                         NaN           NaN   \n",
       "host_id                                       1.508375e+07  5.640055e+07   \n",
       "host_listings_count                           1.000000e+00  1.000000e+00   \n",
       "host_total_listings_count                     1.000000e+00  1.000000e+00   \n",
       "neighbourhood_group_cleansed                           NaN           NaN   \n",
       "latitude                                     -2.298456e+01 -2.297066e+01   \n",
       "longitude                                    -4.331959e+01 -4.319872e+01   \n",
       "accommodates                                  2.000000e+00  4.000000e+00   \n",
       "bathrooms                                     1.000000e+00  1.000000e+00   \n",
       "bedrooms                                      1.000000e+00  1.000000e+00   \n",
       "beds                                          1.000000e+00  2.000000e+00   \n",
       "square_feet                                   0.000000e+00  1.940000e+02   \n",
       "guests_included                               1.000000e+00  1.000000e+00   \n",
       "minimum_nights                                1.000000e+00  2.000000e+00   \n",
       "maximum_nights                                3.000000e+01  1.125000e+03   \n",
       "minimum_minimum_nights                        1.000000e+00  2.000000e+00   \n",
       "maximum_minimum_nights                        1.000000e+00  3.000000e+00   \n",
       "minimum_maximum_nights                        4.000000e+01  1.125000e+03   \n",
       "maximum_maximum_nights                        4.200000e+01  1.125000e+03   \n",
       "minimum_nights_avg_ntm                        1.000000e+00  2.100000e+00   \n",
       "maximum_nights_avg_ntm                        4.100000e+01  1.125000e+03   \n",
       "availability_30                               0.000000e+00  2.700000e+01   \n",
       "availability_60                               0.000000e+00  5.400000e+01   \n",
       "availability_90                               0.000000e+00  8.300000e+01   \n",
       "availability_365                              0.000000e+00  1.600000e+02   \n",
       "number_of_reviews                             0.000000e+00  1.000000e+00   \n",
       "number_of_reviews_ltm                         0.000000e+00  0.000000e+00   \n",
       "review_scores_rating                          9.300000e+01  9.800000e+01   \n",
       "review_scores_accuracy                        1.000000e+01  1.000000e+01   \n",
       "review_scores_cleanliness                     9.000000e+00  1.000000e+01   \n",
       "review_scores_checkin                         1.000000e+01  1.000000e+01   \n",
       "review_scores_communication                   1.000000e+01  1.000000e+01   \n",
       "review_scores_location                        1.000000e+01  1.000000e+01   \n",
       "review_scores_value                           9.000000e+00  1.000000e+01   \n",
       "jurisdiction_names                                     NaN           NaN   \n",
       "calculated_host_listings_count                1.000000e+00  1.000000e+00   \n",
       "calculated_host_listings_count_entire_homes   1.000000e+00  1.000000e+00   \n",
       "calculated_host_listings_count_private_rooms  0.000000e+00  0.000000e+00   \n",
       "calculated_host_listings_count_shared_rooms   0.000000e+00  0.000000e+00   \n",
       "reviews_per_month                             1.200000e-01  3.000000e-01   \n",
       "\n",
       "                                                       75%           max  \n",
       "id                                            3.428384e+07  4.352478e+07  \n",
       "scrape_id                                     2.020052e+13  2.020052e+13  \n",
       "thumbnail_url                                          NaN           NaN  \n",
       "medium_url                                             NaN           NaN  \n",
       "xl_picture_url                                         NaN           NaN  \n",
       "host_id                                       1.118898e+08  3.468845e+08  \n",
       "host_listings_count                           3.000000e+00  1.379000e+03  \n",
       "host_total_listings_count                     3.000000e+00  1.379000e+03  \n",
       "neighbourhood_group_cleansed                           NaN           NaN  \n",
       "latitude                                     -2.294693e+01 -2.275038e+01  \n",
       "longitude                                    -4.318648e+01 -4.310462e+01  \n",
       "accommodates                                  5.000000e+00  1.600000e+02  \n",
       "bathrooms                                     2.000000e+00  2.000000e+01  \n",
       "bedrooms                                      2.000000e+00  3.000000e+01  \n",
       "beds                                          3.000000e+00  6.200000e+01  \n",
       "square_feet                                   7.530000e+02  1.076400e+04  \n",
       "guests_included                               2.000000e+00  3.600000e+01  \n",
       "minimum_nights                                4.000000e+00  1.123000e+03  \n",
       "maximum_nights                                1.125000e+03  1.000000e+09  \n",
       "minimum_minimum_nights                        4.000000e+00  1.095000e+03  \n",
       "maximum_minimum_nights                        5.000000e+00  1.095000e+03  \n",
       "minimum_maximum_nights                        1.125000e+03  1.000000e+09  \n",
       "maximum_maximum_nights                        1.125000e+03  1.000000e+09  \n",
       "minimum_nights_avg_ntm                        4.000000e+00  1.095000e+03  \n",
       "maximum_nights_avg_ntm                        1.125000e+03  1.000000e+09  \n",
       "availability_30                               3.000000e+01  3.000000e+01  \n",
       "availability_60                               6.000000e+01  6.000000e+01  \n",
       "availability_90                               8.900000e+01  9.000000e+01  \n",
       "availability_365                              3.620000e+02  3.650000e+02  \n",
       "number_of_reviews                             6.000000e+00  4.010000e+02  \n",
       "number_of_reviews_ltm                         2.000000e+00  1.010000e+02  \n",
       "review_scores_rating                          1.000000e+02  1.000000e+02  \n",
       "review_scores_accuracy                        1.000000e+01  1.000000e+01  \n",
       "review_scores_cleanliness                     1.000000e+01  1.000000e+01  \n",
       "review_scores_checkin                         1.000000e+01  1.000000e+01  \n",
       "review_scores_communication                   1.000000e+01  1.000000e+01  \n",
       "review_scores_location                        1.000000e+01  1.000000e+01  \n",
       "review_scores_value                           1.000000e+01  1.000000e+01  \n",
       "jurisdiction_names                                     NaN           NaN  \n",
       "calculated_host_listings_count                3.000000e+00  3.240000e+02  \n",
       "calculated_host_listings_count_entire_homes   2.000000e+00  3.220000e+02  \n",
       "calculated_host_listings_count_private_rooms  1.000000e+00  2.000000e+01  \n",
       "calculated_host_listings_count_shared_rooms   0.000000e+00  1.100000e+01  \n",
       "reviews_per_month                             7.200000e-01  8.490000e+00  "
      ]
     },
     "execution_count": 5,
     "metadata": {},
     "output_type": "execute_result"
    }
   ],
   "source": [
    "df_listings.describe().T"
   ]
  },
  {
   "cell_type": "markdown",
   "metadata": {},
   "source": [
    "## Feature selection - selecionando algumas colunas mais relevantes arbitrariamente antes de continuar"
   ]
  },
  {
   "cell_type": "code",
   "execution_count": 6,
   "metadata": {},
   "outputs": [],
   "source": [
    "df_listings = df_listings[['host_listings_count','host_response_rate', 'host_acceptance_rate', 'host_identity_verified', 'neighbourhood_cleansed', 'zipcode', 'latitude', 'longitude', 'property_type', 'accommodates', 'bathrooms', 'bedrooms', 'beds', 'square_feet', 'price', 'cleaning_fee', 'guests_included', 'minimum_nights', 'number_of_reviews', 'review_scores_rating', 'reviews_per_month']]\n"
   ]
  },
  {
   "cell_type": "code",
   "execution_count": 7,
   "metadata": {},
   "outputs": [
    {
     "data": {
      "text/plain": [
       "host_listings_count           5\n",
       "host_response_rate        19310\n",
       "host_acceptance_rate      12643\n",
       "host_identity_verified        5\n",
       "neighbourhood_cleansed        0\n",
       "zipcode                    1744\n",
       "latitude                      0\n",
       "longitude                     0\n",
       "property_type                 0\n",
       "accommodates                  0\n",
       "bathrooms                    67\n",
       "bedrooms                     73\n",
       "beds                        329\n",
       "square_feet               35329\n",
       "price                         0\n",
       "cleaning_fee              11520\n",
       "guests_included               0\n",
       "minimum_nights                0\n",
       "number_of_reviews             0\n",
       "review_scores_rating      15791\n",
       "reviews_per_month         14906\n",
       "dtype: int64"
      ]
     },
     "execution_count": 7,
     "metadata": {},
     "output_type": "execute_result"
    }
   ],
   "source": [
    "df_listings.isna().sum()"
   ]
  },
  {
   "cell_type": "markdown",
   "metadata": {},
   "source": [
    "Removendo colunas que não 'valem a pena'"
   ]
  },
  {
   "cell_type": "code",
   "execution_count": 8,
   "metadata": {},
   "outputs": [],
   "source": [
    "df_listings.drop(columns=['host_response_rate','host_acceptance_rate','square_feet','review_scores_rating','reviews_per_month'], inplace=True)"
   ]
  },
  {
   "cell_type": "markdown",
   "metadata": {},
   "source": [
    "Abrindo mão de 1749 registros para podermos testar o uso do CEP"
   ]
  },
  {
   "cell_type": "code",
   "execution_count": 9,
   "metadata": {},
   "outputs": [],
   "source": [
    "df_listings.dropna(subset=['zipcode','host_identity_verified','host_listings_count'], inplace=True)"
   ]
  },
  {
   "cell_type": "code",
   "execution_count": 10,
   "metadata": {},
   "outputs": [
    {
     "data": {
      "text/plain": [
       "host_listings_count           0\n",
       "host_identity_verified        0\n",
       "neighbourhood_cleansed        0\n",
       "zipcode                       0\n",
       "latitude                      0\n",
       "longitude                     0\n",
       "property_type                 0\n",
       "accommodates                  0\n",
       "bathrooms                    63\n",
       "bedrooms                     68\n",
       "beds                        313\n",
       "price                         0\n",
       "cleaning_fee              10809\n",
       "guests_included               0\n",
       "minimum_nights                0\n",
       "number_of_reviews             0\n",
       "dtype: int64"
      ]
     },
     "execution_count": 10,
     "metadata": {},
     "output_type": "execute_result"
    }
   ],
   "source": [
    "df_listings.isna().sum()"
   ]
  },
  {
   "cell_type": "markdown",
   "metadata": {},
   "source": [
    "## preprocessa para visualização no mapa interativo"
   ]
  },
  {
   "cell_type": "code",
   "execution_count": 11,
   "metadata": {},
   "outputs": [],
   "source": [
    "df_listings['price'] = df_listings.price.str.replace('$','')\n",
    "df_listings['price'] = df_listings.price.str.replace(',','')\n",
    "df_listings.price = pd.to_numeric(df_listings.price)\n",
    "\n",
    "\n",
    "df_listings['cleaning_fee'] = df_listings.cleaning_fee.str.replace('$','')\n",
    "df_listings['cleaning_fee'] = df_listings.cleaning_fee.str.replace(',','')\n",
    "df_listings.cleaning_fee = pd.to_numeric(df_listings.cleaning_fee)\n",
    "\n",
    "\n",
    "df_listings.cleaning_fee = df_listings.cleaning_fee.fillna(0)\n",
    "#df_listings.cleaning_fee = df_listings.cleaning_fee.fillna(df_listings.cleaning_fee.median())"
   ]
  },
  {
   "cell_type": "code",
   "execution_count": 12,
   "metadata": {},
   "outputs": [
    {
     "data": {
      "text/html": [
       "<div>\n",
       "<style scoped>\n",
       "    .dataframe tbody tr th:only-of-type {\n",
       "        vertical-align: middle;\n",
       "    }\n",
       "\n",
       "    .dataframe tbody tr th {\n",
       "        vertical-align: top;\n",
       "    }\n",
       "\n",
       "    .dataframe thead th {\n",
       "        text-align: right;\n",
       "    }\n",
       "</style>\n",
       "<table border=\"1\" class=\"dataframe\">\n",
       "  <thead>\n",
       "    <tr style=\"text-align: right;\">\n",
       "      <th></th>\n",
       "      <th>host_listings_count</th>\n",
       "      <th>latitude</th>\n",
       "      <th>longitude</th>\n",
       "      <th>accommodates</th>\n",
       "      <th>bathrooms</th>\n",
       "      <th>bedrooms</th>\n",
       "      <th>beds</th>\n",
       "      <th>price</th>\n",
       "      <th>cleaning_fee</th>\n",
       "      <th>guests_included</th>\n",
       "      <th>minimum_nights</th>\n",
       "      <th>number_of_reviews</th>\n",
       "    </tr>\n",
       "  </thead>\n",
       "  <tbody>\n",
       "    <tr>\n",
       "      <th>count</th>\n",
       "      <td>34044.000000</td>\n",
       "      <td>34044.000000</td>\n",
       "      <td>34044.000000</td>\n",
       "      <td>34044.000000</td>\n",
       "      <td>33981.000000</td>\n",
       "      <td>33976.000000</td>\n",
       "      <td>33731.000000</td>\n",
       "      <td>34044.000000</td>\n",
       "      <td>34044.000000</td>\n",
       "      <td>34044.000000</td>\n",
       "      <td>34044.000000</td>\n",
       "      <td>34044.000000</td>\n",
       "    </tr>\n",
       "    <tr>\n",
       "      <th>mean</th>\n",
       "      <td>19.292915</td>\n",
       "      <td>-22.965311</td>\n",
       "      <td>-43.252010</td>\n",
       "      <td>4.186670</td>\n",
       "      <td>1.669948</td>\n",
       "      <td>1.622557</td>\n",
       "      <td>2.543032</td>\n",
       "      <td>797.505728</td>\n",
       "      <td>113.079015</td>\n",
       "      <td>1.743097</td>\n",
       "      <td>4.804518</td>\n",
       "      <td>9.889467</td>\n",
       "    </tr>\n",
       "    <tr>\n",
       "      <th>std</th>\n",
       "      <td>134.722293</td>\n",
       "      <td>0.034608</td>\n",
       "      <td>0.096543</td>\n",
       "      <td>2.627903</td>\n",
       "      <td>1.041778</td>\n",
       "      <td>1.085454</td>\n",
       "      <td>2.079550</td>\n",
       "      <td>2476.174253</td>\n",
       "      <td>181.273934</td>\n",
       "      <td>1.612901</td>\n",
       "      <td>22.095723</td>\n",
       "      <td>26.000473</td>\n",
       "    </tr>\n",
       "    <tr>\n",
       "      <th>min</th>\n",
       "      <td>0.000000</td>\n",
       "      <td>-23.073400</td>\n",
       "      <td>-43.737090</td>\n",
       "      <td>1.000000</td>\n",
       "      <td>0.000000</td>\n",
       "      <td>0.000000</td>\n",
       "      <td>0.000000</td>\n",
       "      <td>0.000000</td>\n",
       "      <td>0.000000</td>\n",
       "      <td>1.000000</td>\n",
       "      <td>1.000000</td>\n",
       "      <td>0.000000</td>\n",
       "    </tr>\n",
       "    <tr>\n",
       "      <th>25%</th>\n",
       "      <td>1.000000</td>\n",
       "      <td>-22.984530</td>\n",
       "      <td>-43.320130</td>\n",
       "      <td>2.000000</td>\n",
       "      <td>1.000000</td>\n",
       "      <td>1.000000</td>\n",
       "      <td>1.000000</td>\n",
       "      <td>159.000000</td>\n",
       "      <td>0.000000</td>\n",
       "      <td>1.000000</td>\n",
       "      <td>1.000000</td>\n",
       "      <td>0.000000</td>\n",
       "    </tr>\n",
       "    <tr>\n",
       "      <th>50%</th>\n",
       "      <td>1.000000</td>\n",
       "      <td>-22.970730</td>\n",
       "      <td>-43.198645</td>\n",
       "      <td>4.000000</td>\n",
       "      <td>1.000000</td>\n",
       "      <td>1.000000</td>\n",
       "      <td>2.000000</td>\n",
       "      <td>299.000000</td>\n",
       "      <td>100.000000</td>\n",
       "      <td>1.000000</td>\n",
       "      <td>2.000000</td>\n",
       "      <td>1.000000</td>\n",
       "    </tr>\n",
       "    <tr>\n",
       "      <th>75%</th>\n",
       "      <td>3.000000</td>\n",
       "      <td>-22.947508</td>\n",
       "      <td>-43.186600</td>\n",
       "      <td>5.000000</td>\n",
       "      <td>2.000000</td>\n",
       "      <td>2.000000</td>\n",
       "      <td>3.000000</td>\n",
       "      <td>649.000000</td>\n",
       "      <td>160.000000</td>\n",
       "      <td>2.000000</td>\n",
       "      <td>4.000000</td>\n",
       "      <td>6.000000</td>\n",
       "    </tr>\n",
       "    <tr>\n",
       "      <th>max</th>\n",
       "      <td>1379.000000</td>\n",
       "      <td>-22.750380</td>\n",
       "      <td>-43.104620</td>\n",
       "      <td>160.000000</td>\n",
       "      <td>20.000000</td>\n",
       "      <td>30.000000</td>\n",
       "      <td>62.000000</td>\n",
       "      <td>138288.000000</td>\n",
       "      <td>7743.000000</td>\n",
       "      <td>36.000000</td>\n",
       "      <td>1123.000000</td>\n",
       "      <td>401.000000</td>\n",
       "    </tr>\n",
       "  </tbody>\n",
       "</table>\n",
       "</div>"
      ],
      "text/plain": [
       "       host_listings_count      latitude     longitude  accommodates  \\\n",
       "count         34044.000000  34044.000000  34044.000000  34044.000000   \n",
       "mean             19.292915    -22.965311    -43.252010      4.186670   \n",
       "std             134.722293      0.034608      0.096543      2.627903   \n",
       "min               0.000000    -23.073400    -43.737090      1.000000   \n",
       "25%               1.000000    -22.984530    -43.320130      2.000000   \n",
       "50%               1.000000    -22.970730    -43.198645      4.000000   \n",
       "75%               3.000000    -22.947508    -43.186600      5.000000   \n",
       "max            1379.000000    -22.750380    -43.104620    160.000000   \n",
       "\n",
       "          bathrooms      bedrooms          beds          price  cleaning_fee  \\\n",
       "count  33981.000000  33976.000000  33731.000000   34044.000000  34044.000000   \n",
       "mean       1.669948      1.622557      2.543032     797.505728    113.079015   \n",
       "std        1.041778      1.085454      2.079550    2476.174253    181.273934   \n",
       "min        0.000000      0.000000      0.000000       0.000000      0.000000   \n",
       "25%        1.000000      1.000000      1.000000     159.000000      0.000000   \n",
       "50%        1.000000      1.000000      2.000000     299.000000    100.000000   \n",
       "75%        2.000000      2.000000      3.000000     649.000000    160.000000   \n",
       "max       20.000000     30.000000     62.000000  138288.000000   7743.000000   \n",
       "\n",
       "       guests_included  minimum_nights  number_of_reviews  \n",
       "count     34044.000000    34044.000000       34044.000000  \n",
       "mean          1.743097        4.804518           9.889467  \n",
       "std           1.612901       22.095723          26.000473  \n",
       "min           1.000000        1.000000           0.000000  \n",
       "25%           1.000000        1.000000           0.000000  \n",
       "50%           1.000000        2.000000           1.000000  \n",
       "75%           2.000000        4.000000           6.000000  \n",
       "max          36.000000     1123.000000         401.000000  "
      ]
     },
     "execution_count": 12,
     "metadata": {},
     "output_type": "execute_result"
    }
   ],
   "source": [
    "df_listings.describe()"
   ]
  },
  {
   "cell_type": "markdown",
   "metadata": {},
   "source": [
    "## Visualiza distribuição espacial"
   ]
  },
  {
   "cell_type": "code",
   "execution_count": 13,
   "metadata": {},
   "outputs": [],
   "source": [
    "with open('mapconfig.json') as json_file:\n",
    "    map_config = json.load(json_file)"
   ]
  },
  {
   "cell_type": "code",
   "execution_count": 14,
   "metadata": {},
   "outputs": [
    {
     "name": "stdout",
     "output_type": "stream",
     "text": [
      "User Guide: https://docs.kepler.gl/docs/keplergl-jupyter\n"
     ]
    }
   ],
   "source": [
    "map_1 = KeplerGl(height=500, config=map_config)\n",
    "map_1.add_data(data=df_listings, name=\"data_1\")"
   ]
  },
  {
   "cell_type": "markdown",
   "metadata": {},
   "source": [
    "## Valor por região\n",
    "\n",
    "Cor dos hexágonos = valor médio da diária na região"
   ]
  },
  {
   "cell_type": "code",
   "execution_count": 15,
   "metadata": {
    "scrolled": false
   },
   "outputs": [
    {
     "data": {
      "application/vnd.jupyter.widget-view+json": {
       "model_id": "cb7d3f54078044dd9fdf1ff2b996247e",
       "version_major": 2,
       "version_minor": 0
      },
      "text/plain": [
       "KeplerGl(config={'version': 'v1', 'config': {'visState': {'filters': [], 'layers': [{'id': '6cu8gy', 'type': '…"
      ]
     },
     "metadata": {},
     "output_type": "display_data"
    }
   ],
   "source": [
    "map_1"
   ]
  },
  {
   "cell_type": "markdown",
   "metadata": {},
   "source": [
    "## Checa distribuição por vizinhanças"
   ]
  },
  {
   "cell_type": "code",
   "execution_count": 16,
   "metadata": {},
   "outputs": [
    {
     "data": {
      "image/png": "[encoded data removed]",
      "text/plain": [
       "<Figure size 432x288 with 1 Axes>"
      ]
     },
     "metadata": {
      "needs_background": "light"
     },
     "output_type": "display_data"
    }
   ],
   "source": [
    "df_listings.neighbourhood_cleansed.value_counts()[:20].plot.bar();"
   ]
  },
  {
   "cell_type": "markdown",
   "metadata": {},
   "source": [
    "## Checa distribuição por tamanho e preço"
   ]
  },
  {
   "cell_type": "code",
   "execution_count": 17,
   "metadata": {},
   "outputs": [
    {
     "data": {
      "text/plain": [
       "(34044, 16)"
      ]
     },
     "execution_count": 17,
     "metadata": {},
     "output_type": "execute_result"
    }
   ],
   "source": [
    "df_listings.shape"
   ]
  },
  {
   "cell_type": "code",
   "execution_count": 18,
   "metadata": {},
   "outputs": [
    {
     "data": {
      "image/png": "[encoded data removed]",
      "text/plain": [
       "<Figure size 1296x1800 with 12 Axes>"
      ]
     },
     "metadata": {
      "needs_background": "light"
     },
     "output_type": "display_data"
    }
   ],
   "source": [
    "df_listings.hist(bins=30,figsize=(18,25));"
   ]
  },
  {
   "cell_type": "code",
   "execution_count": 19,
   "metadata": {},
   "outputs": [
    {
     "data": {
      "image/png": "[encoded data removed]",
      "text/plain": [
       "<Figure size 432x288 with 1 Axes>"
      ]
     },
     "metadata": {
      "needs_background": "light"
     },
     "output_type": "display_data"
    }
   ],
   "source": [
    "df_listings[df_listings.price < 6000].price.plot.hist(bins=30);"
   ]
  },
  {
   "cell_type": "markdown",
   "metadata": {},
   "source": [
    "- Distribuição das features numéricas é exponencial\n",
    "- Alguns outliers 'impactando' no comportamento do dataset"
   ]
  },
  {
   "cell_type": "markdown",
   "metadata": {},
   "source": [
    "## Pré-processa / filtra outliers / imputation"
   ]
  },
  {
   "cell_type": "markdown",
   "metadata": {},
   "source": [
    "### Filtrando datapoints até o terceiro quartil + uma quantidade arbitrária"
   ]
  },
  {
   "cell_type": "code",
   "execution_count": 20,
   "metadata": {},
   "outputs": [
    {
     "data": {
      "text/plain": [
       "(34038, 16)"
      ]
     },
     "execution_count": 20,
     "metadata": {},
     "output_type": "execute_result"
    }
   ],
   "source": [
    "df_listings = df_listings[df_listings.accommodates < 20]\n",
    "df_listings.shape"
   ]
  },
  {
   "cell_type": "code",
   "execution_count": 21,
   "metadata": {},
   "outputs": [
    {
     "data": {
      "text/plain": [
       "(33958, 16)"
      ]
     },
     "execution_count": 21,
     "metadata": {},
     "output_type": "execute_result"
    }
   ],
   "source": [
    "df_listings = df_listings[df_listings.bathrooms < 10]\n",
    "df_listings.shape"
   ]
  },
  {
   "cell_type": "code",
   "execution_count": 22,
   "metadata": {},
   "outputs": [
    {
     "data": {
      "text/plain": [
       "(33882, 16)"
      ]
     },
     "execution_count": 22,
     "metadata": {},
     "output_type": "execute_result"
    }
   ],
   "source": [
    "df_listings = df_listings[df_listings.bedrooms < 10]\n",
    "df_listings.shape"
   ]
  },
  {
   "cell_type": "code",
   "execution_count": 23,
   "metadata": {},
   "outputs": [
    {
     "data": {
      "text/plain": [
       "(33266, 16)"
      ]
     },
     "execution_count": 23,
     "metadata": {},
     "output_type": "execute_result"
    }
   ],
   "source": [
    "df_listings = df_listings[df_listings.beds < 10]\n",
    "df_listings.shape"
   ]
  },
  {
   "cell_type": "code",
   "execution_count": 24,
   "metadata": {},
   "outputs": [
    {
     "data": {
      "text/plain": [
       "(33096, 16)"
      ]
     },
     "execution_count": 24,
     "metadata": {},
     "output_type": "execute_result"
    }
   ],
   "source": [
    "df_listings = df_listings[df_listings.guests_included < 10]\n",
    "df_listings.shape"
   ]
  },
  {
   "cell_type": "code",
   "execution_count": 25,
   "metadata": {},
   "outputs": [
    {
     "data": {
      "text/plain": [
       "(32944, 16)"
      ]
     },
     "execution_count": 25,
     "metadata": {},
     "output_type": "execute_result"
    }
   ],
   "source": [
    "df_listings = df_listings[df_listings.minimum_nights <= 60]\n",
    "df_listings.shape"
   ]
  },
  {
   "cell_type": "code",
   "execution_count": 26,
   "metadata": {},
   "outputs": [
    {
     "data": {
      "text/plain": [
       "(30823, 16)"
      ]
     },
     "execution_count": 26,
     "metadata": {},
     "output_type": "execute_result"
    }
   ],
   "source": [
    "df_listings = df_listings[df_listings.price <= 2000]\n",
    "df_listings.shape"
   ]
  },
  {
   "cell_type": "code",
   "execution_count": 27,
   "metadata": {},
   "outputs": [
    {
     "data": {
      "text/plain": [
       "(30770, 16)"
      ]
     },
     "execution_count": 27,
     "metadata": {},
     "output_type": "execute_result"
    }
   ],
   "source": [
    "df_listings = df_listings[df_listings.cleaning_fee <= 1000]\n",
    "df_listings.shape"
   ]
  },
  {
   "cell_type": "code",
   "execution_count": 28,
   "metadata": {},
   "outputs": [
    {
     "data": {
      "image/png": "[encoded data removed]",
      "text/plain": [
       "<Figure size 1296x1800 with 12 Axes>"
      ]
     },
     "metadata": {
      "needs_background": "light"
     },
     "output_type": "display_data"
    }
   ],
   "source": [
    "df_listings.hist(bins=30,figsize=(18,25));"
   ]
  },
  {
   "cell_type": "markdown",
   "metadata": {},
   "source": [
    "Muito melhor!"
   ]
  },
  {
   "cell_type": "markdown",
   "metadata": {},
   "source": [
    "### Transforma zipcode em feature numérica para avaliação "
   ]
  },
  {
   "cell_type": "code",
   "execution_count": 29,
   "metadata": {},
   "outputs": [],
   "source": [
    "df_listings['zipcode'] = df_listings['zipcode'].str.replace(r\"[a-zA-Z]\",'')\n",
    "df_listings['zipcode'] = df_listings['zipcode'].str.replace('•','')\n",
    "df_listings['zipcode'] = df_listings['zipcode'].str.replace('-','')\n",
    "df_listings['zipcode'] = df_listings['zipcode'].str.replace(',','')\n",
    "df_listings['zipcode'] = df_listings['zipcode'].str.replace(' ','')\n",
    "df_listings['zipcode'] = df_listings['zipcode'].str.replace('\\n','')\n",
    "df_listings['zipcode'] = df_listings['zipcode'].str.replace('.','')\n",
    "df_listings['zipcode'] = df_listings['zipcode'].str.replace('/','')\n",
    "df_listings['zipcode'] = df_listings['zipcode'].str.replace('_','')\n",
    "\n",
    "df_listings['zipcode'] = pd.to_numeric(df_listings['zipcode'])"
   ]
  },
  {
   "cell_type": "code",
   "execution_count": 30,
   "metadata": {},
   "outputs": [
    {
     "data": {
      "text/plain": [
       "host_listings_count       0\n",
       "host_identity_verified    0\n",
       "neighbourhood_cleansed    0\n",
       "zipcode                   0\n",
       "latitude                  0\n",
       "longitude                 0\n",
       "property_type             0\n",
       "accommodates              0\n",
       "bathrooms                 0\n",
       "bedrooms                  0\n",
       "beds                      0\n",
       "price                     0\n",
       "cleaning_fee              0\n",
       "guests_included           0\n",
       "minimum_nights            0\n",
       "number_of_reviews         0\n",
       "dtype: int64"
      ]
     },
     "execution_count": 30,
     "metadata": {},
     "output_type": "execute_result"
    }
   ],
   "source": [
    "df_listings.dropna(subset=['zipcode'], inplace=True)\n",
    "df_listings.isna().sum()"
   ]
  },
  {
   "cell_type": "markdown",
   "metadata": {},
   "source": [
    "### Filtrando datapoints somente dos bairros com mais de 100 listings"
   ]
  },
  {
   "cell_type": "code",
   "execution_count": 31,
   "metadata": {},
   "outputs": [
    {
     "data": {
      "text/plain": [
       "array(['Copacabana', 'Barra da Tijuca', 'Ipanema', 'Jacarepaguá',\n",
       "       'Botafogo', 'Recreio dos Bandeirantes', 'Leblon', 'Santa Teresa',\n",
       "       'Centro', 'Flamengo', 'Laranjeiras', 'Tijuca', 'Leme', 'Lagoa',\n",
       "       'Glória', 'Catete', 'Humaitá', 'Camorim', 'Jardim Botânico',\n",
       "       'Gávea', 'Maracanã', 'Vila Isabel', 'Freguesia (Jacarepaguá)',\n",
       "       'Taquara', 'São Conrado', 'Vargem Pequena', 'Vidigal', 'Urca',\n",
       "       'Itanhangá', 'Cosme Velho', 'Rio Comprido'], dtype=object)"
      ]
     },
     "execution_count": 31,
     "metadata": {},
     "output_type": "execute_result"
    }
   ],
   "source": [
    "value_counts = df_listings.neighbourhood_cleansed.value_counts() > 100\n",
    "top_neighborhoods = value_counts[value_counts.values].index.values\n",
    "top_neighborhoods"
   ]
  },
  {
   "cell_type": "code",
   "execution_count": 32,
   "metadata": {},
   "outputs": [
    {
     "data": {
      "text/plain": [
       "(28567, 16)"
      ]
     },
     "execution_count": 32,
     "metadata": {},
     "output_type": "execute_result"
    }
   ],
   "source": [
    "df_listings = df_listings[df_listings.neighbourhood_cleansed.isin(top_neighborhoods)]\n",
    "df_listings.shape"
   ]
  },
  {
   "cell_type": "markdown",
   "metadata": {},
   "source": [
    "### Filtrando datapoints dos tipos de propriedade com mais de 50 listings"
   ]
  },
  {
   "cell_type": "code",
   "execution_count": 33,
   "metadata": {},
   "outputs": [
    {
     "data": {
      "text/plain": [
       "array(['Apartment', 'House', 'Condominium', 'Loft', 'Serviced apartment',\n",
       "       'Guest suite', 'Bed and breakfast', 'Guesthouse', 'Hotel', 'Villa',\n",
       "       'Hostel', 'Other'], dtype=object)"
      ]
     },
     "execution_count": 33,
     "metadata": {},
     "output_type": "execute_result"
    }
   ],
   "source": [
    "value_counts = df_listings.property_type.value_counts() > 50\n",
    "top_property_types = value_counts[value_counts.values].index.values\n",
    "top_property_types"
   ]
  },
  {
   "cell_type": "code",
   "execution_count": 34,
   "metadata": {},
   "outputs": [
    {
     "data": {
      "text/plain": [
       "(28375, 16)"
      ]
     },
     "execution_count": 34,
     "metadata": {},
     "output_type": "execute_result"
    }
   ],
   "source": [
    "df_listings = df_listings[df_listings.property_type.isin(top_property_types)]\n",
    "df_listings.shape"
   ]
  },
  {
   "cell_type": "markdown",
   "metadata": {},
   "source": [
    "### Faz one hot com alguns campos"
   ]
  },
  {
   "cell_type": "code",
   "execution_count": 35,
   "metadata": {},
   "outputs": [
    {
     "data": {
      "image/png": "[encoded data removed]",
      "text/plain": [
       "<Figure size 432x288 with 1 Axes>"
      ]
     },
     "metadata": {
      "needs_background": "light"
     },
     "output_type": "display_data"
    }
   ],
   "source": [
    "df_listings.host_identity_verified.value_counts().plot.bar();"
   ]
  },
  {
   "cell_type": "code",
   "execution_count": 36,
   "metadata": {},
   "outputs": [],
   "source": [
    "## pequeno hack para podermos continuar os testes antes dos one_hots\n",
    "df_listings2 = df_listings.copy()"
   ]
  },
  {
   "cell_type": "code",
   "execution_count": 37,
   "metadata": {},
   "outputs": [
    {
     "name": "stdout",
     "output_type": "stream",
     "text": [
      "(28375, 17)\n"
     ]
    },
    {
     "data": {
      "text/html": [
       "<div>\n",
       "<style scoped>\n",
       "    .dataframe tbody tr th:only-of-type {\n",
       "        vertical-align: middle;\n",
       "    }\n",
       "\n",
       "    .dataframe tbody tr th {\n",
       "        vertical-align: top;\n",
       "    }\n",
       "\n",
       "    .dataframe thead th {\n",
       "        text-align: right;\n",
       "    }\n",
       "</style>\n",
       "<table border=\"1\" class=\"dataframe\">\n",
       "  <thead>\n",
       "    <tr style=\"text-align: right;\">\n",
       "      <th></th>\n",
       "      <th>host_listings_count</th>\n",
       "      <th>neighbourhood_cleansed</th>\n",
       "      <th>zipcode</th>\n",
       "      <th>latitude</th>\n",
       "      <th>longitude</th>\n",
       "      <th>property_type</th>\n",
       "      <th>accommodates</th>\n",
       "      <th>bathrooms</th>\n",
       "      <th>bedrooms</th>\n",
       "      <th>beds</th>\n",
       "      <th>price</th>\n",
       "      <th>cleaning_fee</th>\n",
       "      <th>guests_included</th>\n",
       "      <th>minimum_nights</th>\n",
       "      <th>number_of_reviews</th>\n",
       "      <th>host_identity_verified_f</th>\n",
       "      <th>host_identity_verified_t</th>\n",
       "    </tr>\n",
       "  </thead>\n",
       "  <tbody>\n",
       "    <tr>\n",
       "      <th>0</th>\n",
       "      <td>2.0</td>\n",
       "      <td>Copacabana</td>\n",
       "      <td>22020050.0</td>\n",
       "      <td>-22.96592</td>\n",
       "      <td>-43.17896</td>\n",
       "      <td>Condominium</td>\n",
       "      <td>5</td>\n",
       "      <td>1.0</td>\n",
       "      <td>2.0</td>\n",
       "      <td>2.0</td>\n",
       "      <td>188.0</td>\n",
       "      <td>250.0</td>\n",
       "      <td>2</td>\n",
       "      <td>7</td>\n",
       "      <td>251</td>\n",
       "      <td>0</td>\n",
       "      <td>1</td>\n",
       "    </tr>\n",
       "    <tr>\n",
       "      <th>1</th>\n",
       "      <td>0.0</td>\n",
       "      <td>Ipanema</td>\n",
       "      <td>22420010.0</td>\n",
       "      <td>-22.98467</td>\n",
       "      <td>-43.19611</td>\n",
       "      <td>Apartment</td>\n",
       "      <td>6</td>\n",
       "      <td>2.0</td>\n",
       "      <td>2.0</td>\n",
       "      <td>4.0</td>\n",
       "      <td>442.0</td>\n",
       "      <td>277.0</td>\n",
       "      <td>6</td>\n",
       "      <td>5</td>\n",
       "      <td>94</td>\n",
       "      <td>0</td>\n",
       "      <td>1</td>\n",
       "    </tr>\n",
       "    <tr>\n",
       "      <th>2</th>\n",
       "      <td>3.0</td>\n",
       "      <td>Copacabana</td>\n",
       "      <td>22060020.0</td>\n",
       "      <td>-22.97712</td>\n",
       "      <td>-43.19045</td>\n",
       "      <td>Apartment</td>\n",
       "      <td>2</td>\n",
       "      <td>1.0</td>\n",
       "      <td>1.0</td>\n",
       "      <td>2.0</td>\n",
       "      <td>160.0</td>\n",
       "      <td>250.0</td>\n",
       "      <td>2</td>\n",
       "      <td>7</td>\n",
       "      <td>238</td>\n",
       "      <td>0</td>\n",
       "      <td>1</td>\n",
       "    </tr>\n",
       "    <tr>\n",
       "      <th>3</th>\n",
       "      <td>1.0</td>\n",
       "      <td>Ipanema</td>\n",
       "      <td>22410003.0</td>\n",
       "      <td>-22.98302</td>\n",
       "      <td>-43.21427</td>\n",
       "      <td>Apartment</td>\n",
       "      <td>3</td>\n",
       "      <td>1.0</td>\n",
       "      <td>1.0</td>\n",
       "      <td>1.0</td>\n",
       "      <td>359.0</td>\n",
       "      <td>111.0</td>\n",
       "      <td>2</td>\n",
       "      <td>2</td>\n",
       "      <td>282</td>\n",
       "      <td>0</td>\n",
       "      <td>1</td>\n",
       "    </tr>\n",
       "    <tr>\n",
       "      <th>4</th>\n",
       "      <td>1.0</td>\n",
       "      <td>Ipanema</td>\n",
       "      <td>22081020.0</td>\n",
       "      <td>-22.98816</td>\n",
       "      <td>-43.19359</td>\n",
       "      <td>Apartment</td>\n",
       "      <td>2</td>\n",
       "      <td>1.5</td>\n",
       "      <td>1.0</td>\n",
       "      <td>1.0</td>\n",
       "      <td>495.0</td>\n",
       "      <td>225.0</td>\n",
       "      <td>2</td>\n",
       "      <td>2</td>\n",
       "      <td>181</td>\n",
       "      <td>0</td>\n",
       "      <td>1</td>\n",
       "    </tr>\n",
       "  </tbody>\n",
       "</table>\n",
       "</div>"
      ],
      "text/plain": [
       "   host_listings_count neighbourhood_cleansed     zipcode  latitude  \\\n",
       "0                  2.0             Copacabana  22020050.0 -22.96592   \n",
       "1                  0.0                Ipanema  22420010.0 -22.98467   \n",
       "2                  3.0             Copacabana  22060020.0 -22.97712   \n",
       "3                  1.0                Ipanema  22410003.0 -22.98302   \n",
       "4                  1.0                Ipanema  22081020.0 -22.98816   \n",
       "\n",
       "   longitude property_type  accommodates  bathrooms  bedrooms  beds  price  \\\n",
       "0  -43.17896   Condominium             5        1.0       2.0   2.0  188.0   \n",
       "1  -43.19611     Apartment             6        2.0       2.0   4.0  442.0   \n",
       "2  -43.19045     Apartment             2        1.0       1.0   2.0  160.0   \n",
       "3  -43.21427     Apartment             3        1.0       1.0   1.0  359.0   \n",
       "4  -43.19359     Apartment             2        1.5       1.0   1.0  495.0   \n",
       "\n",
       "   cleaning_fee  guests_included  minimum_nights  number_of_reviews  \\\n",
       "0         250.0                2               7                251   \n",
       "1         277.0                6               5                 94   \n",
       "2         250.0                2               7                238   \n",
       "3         111.0                2               2                282   \n",
       "4         225.0                2               2                181   \n",
       "\n",
       "   host_identity_verified_f  host_identity_verified_t  \n",
       "0                         0                         1  \n",
       "1                         0                         1  \n",
       "2                         0                         1  \n",
       "3                         0                         1  \n",
       "4                         0                         1  "
      ]
     },
     "execution_count": 37,
     "metadata": {},
     "output_type": "execute_result"
    }
   ],
   "source": [
    "one_hot = pd.get_dummies(df_listings['host_identity_verified'], prefix=\"host_identity_verified\")\n",
    "df_listings = df_listings.join(one_hot)\n",
    "\n",
    "df_listings = df_listings.drop(['host_identity_verified'], axis=1)\n",
    "\n",
    "print(df_listings.shape)\n",
    "df_listings.head()"
   ]
  },
  {
   "cell_type": "code",
   "execution_count": 38,
   "metadata": {},
   "outputs": [
    {
     "name": "stdout",
     "output_type": "stream",
     "text": [
      "(28375, 47)\n"
     ]
    },
    {
     "data": {
      "text/html": [
       "<div>\n",
       "<style scoped>\n",
       "    .dataframe tbody tr th:only-of-type {\n",
       "        vertical-align: middle;\n",
       "    }\n",
       "\n",
       "    .dataframe tbody tr th {\n",
       "        vertical-align: top;\n",
       "    }\n",
       "\n",
       "    .dataframe thead th {\n",
       "        text-align: right;\n",
       "    }\n",
       "</style>\n",
       "<table border=\"1\" class=\"dataframe\">\n",
       "  <thead>\n",
       "    <tr style=\"text-align: right;\">\n",
       "      <th></th>\n",
       "      <th>host_listings_count</th>\n",
       "      <th>zipcode</th>\n",
       "      <th>latitude</th>\n",
       "      <th>longitude</th>\n",
       "      <th>property_type</th>\n",
       "      <th>accommodates</th>\n",
       "      <th>bathrooms</th>\n",
       "      <th>bedrooms</th>\n",
       "      <th>beds</th>\n",
       "      <th>price</th>\n",
       "      <th>...</th>\n",
       "      <th>neighbourhood_Recreio dos Bandeirantes</th>\n",
       "      <th>neighbourhood_Rio Comprido</th>\n",
       "      <th>neighbourhood_Santa Teresa</th>\n",
       "      <th>neighbourhood_São Conrado</th>\n",
       "      <th>neighbourhood_Taquara</th>\n",
       "      <th>neighbourhood_Tijuca</th>\n",
       "      <th>neighbourhood_Urca</th>\n",
       "      <th>neighbourhood_Vargem Pequena</th>\n",
       "      <th>neighbourhood_Vidigal</th>\n",
       "      <th>neighbourhood_Vila Isabel</th>\n",
       "    </tr>\n",
       "  </thead>\n",
       "  <tbody>\n",
       "    <tr>\n",
       "      <th>0</th>\n",
       "      <td>2.0</td>\n",
       "      <td>22020050.0</td>\n",
       "      <td>-22.96592</td>\n",
       "      <td>-43.17896</td>\n",
       "      <td>Condominium</td>\n",
       "      <td>5</td>\n",
       "      <td>1.0</td>\n",
       "      <td>2.0</td>\n",
       "      <td>2.0</td>\n",
       "      <td>188.0</td>\n",
       "      <td>...</td>\n",
       "      <td>0</td>\n",
       "      <td>0</td>\n",
       "      <td>0</td>\n",
       "      <td>0</td>\n",
       "      <td>0</td>\n",
       "      <td>0</td>\n",
       "      <td>0</td>\n",
       "      <td>0</td>\n",
       "      <td>0</td>\n",
       "      <td>0</td>\n",
       "    </tr>\n",
       "    <tr>\n",
       "      <th>1</th>\n",
       "      <td>0.0</td>\n",
       "      <td>22420010.0</td>\n",
       "      <td>-22.98467</td>\n",
       "      <td>-43.19611</td>\n",
       "      <td>Apartment</td>\n",
       "      <td>6</td>\n",
       "      <td>2.0</td>\n",
       "      <td>2.0</td>\n",
       "      <td>4.0</td>\n",
       "      <td>442.0</td>\n",
       "      <td>...</td>\n",
       "      <td>0</td>\n",
       "      <td>0</td>\n",
       "      <td>0</td>\n",
       "      <td>0</td>\n",
       "      <td>0</td>\n",
       "      <td>0</td>\n",
       "      <td>0</td>\n",
       "      <td>0</td>\n",
       "      <td>0</td>\n",
       "      <td>0</td>\n",
       "    </tr>\n",
       "    <tr>\n",
       "      <th>2</th>\n",
       "      <td>3.0</td>\n",
       "      <td>22060020.0</td>\n",
       "      <td>-22.97712</td>\n",
       "      <td>-43.19045</td>\n",
       "      <td>Apartment</td>\n",
       "      <td>2</td>\n",
       "      <td>1.0</td>\n",
       "      <td>1.0</td>\n",
       "      <td>2.0</td>\n",
       "      <td>160.0</td>\n",
       "      <td>...</td>\n",
       "      <td>0</td>\n",
       "      <td>0</td>\n",
       "      <td>0</td>\n",
       "      <td>0</td>\n",
       "      <td>0</td>\n",
       "      <td>0</td>\n",
       "      <td>0</td>\n",
       "      <td>0</td>\n",
       "      <td>0</td>\n",
       "      <td>0</td>\n",
       "    </tr>\n",
       "    <tr>\n",
       "      <th>3</th>\n",
       "      <td>1.0</td>\n",
       "      <td>22410003.0</td>\n",
       "      <td>-22.98302</td>\n",
       "      <td>-43.21427</td>\n",
       "      <td>Apartment</td>\n",
       "      <td>3</td>\n",
       "      <td>1.0</td>\n",
       "      <td>1.0</td>\n",
       "      <td>1.0</td>\n",
       "      <td>359.0</td>\n",
       "      <td>...</td>\n",
       "      <td>0</td>\n",
       "      <td>0</td>\n",
       "      <td>0</td>\n",
       "      <td>0</td>\n",
       "      <td>0</td>\n",
       "      <td>0</td>\n",
       "      <td>0</td>\n",
       "      <td>0</td>\n",
       "      <td>0</td>\n",
       "      <td>0</td>\n",
       "    </tr>\n",
       "    <tr>\n",
       "      <th>4</th>\n",
       "      <td>1.0</td>\n",
       "      <td>22081020.0</td>\n",
       "      <td>-22.98816</td>\n",
       "      <td>-43.19359</td>\n",
       "      <td>Apartment</td>\n",
       "      <td>2</td>\n",
       "      <td>1.5</td>\n",
       "      <td>1.0</td>\n",
       "      <td>1.0</td>\n",
       "      <td>495.0</td>\n",
       "      <td>...</td>\n",
       "      <td>0</td>\n",
       "      <td>0</td>\n",
       "      <td>0</td>\n",
       "      <td>0</td>\n",
       "      <td>0</td>\n",
       "      <td>0</td>\n",
       "      <td>0</td>\n",
       "      <td>0</td>\n",
       "      <td>0</td>\n",
       "      <td>0</td>\n",
       "    </tr>\n",
       "  </tbody>\n",
       "</table>\n",
       "<p>5 rows × 47 columns</p>\n",
       "</div>"
      ],
      "text/plain": [
       "   host_listings_count     zipcode  latitude  longitude property_type  \\\n",
       "0                  2.0  22020050.0 -22.96592  -43.17896   Condominium   \n",
       "1                  0.0  22420010.0 -22.98467  -43.19611     Apartment   \n",
       "2                  3.0  22060020.0 -22.97712  -43.19045     Apartment   \n",
       "3                  1.0  22410003.0 -22.98302  -43.21427     Apartment   \n",
       "4                  1.0  22081020.0 -22.98816  -43.19359     Apartment   \n",
       "\n",
       "   accommodates  bathrooms  bedrooms  beds  price  ...  \\\n",
       "0             5        1.0       2.0   2.0  188.0  ...   \n",
       "1             6        2.0       2.0   4.0  442.0  ...   \n",
       "2             2        1.0       1.0   2.0  160.0  ...   \n",
       "3             3        1.0       1.0   1.0  359.0  ...   \n",
       "4             2        1.5       1.0   1.0  495.0  ...   \n",
       "\n",
       "   neighbourhood_Recreio dos Bandeirantes  neighbourhood_Rio Comprido  \\\n",
       "0                                       0                           0   \n",
       "1                                       0                           0   \n",
       "2                                       0                           0   \n",
       "3                                       0                           0   \n",
       "4                                       0                           0   \n",
       "\n",
       "   neighbourhood_Santa Teresa  neighbourhood_São Conrado  \\\n",
       "0                           0                          0   \n",
       "1                           0                          0   \n",
       "2                           0                          0   \n",
       "3                           0                          0   \n",
       "4                           0                          0   \n",
       "\n",
       "   neighbourhood_Taquara  neighbourhood_Tijuca  neighbourhood_Urca  \\\n",
       "0                      0                     0                   0   \n",
       "1                      0                     0                   0   \n",
       "2                      0                     0                   0   \n",
       "3                      0                     0                   0   \n",
       "4                      0                     0                   0   \n",
       "\n",
       "   neighbourhood_Vargem Pequena  neighbourhood_Vidigal  \\\n",
       "0                             0                      0   \n",
       "1                             0                      0   \n",
       "2                             0                      0   \n",
       "3                             0                      0   \n",
       "4                             0                      0   \n",
       "\n",
       "   neighbourhood_Vila Isabel  \n",
       "0                          0  \n",
       "1                          0  \n",
       "2                          0  \n",
       "3                          0  \n",
       "4                          0  \n",
       "\n",
       "[5 rows x 47 columns]"
      ]
     },
     "execution_count": 38,
     "metadata": {},
     "output_type": "execute_result"
    }
   ],
   "source": [
    "one_hot = pd.get_dummies(df_listings['neighbourhood_cleansed'], prefix=\"neighbourhood\")\n",
    "df_listings = df_listings.join(one_hot)\n",
    "\n",
    "df_listings = df_listings.drop(['neighbourhood_cleansed'], axis=1)\n",
    "\n",
    "print(df_listings.shape)\n",
    "df_listings.head()"
   ]
  },
  {
   "cell_type": "code",
   "execution_count": 39,
   "metadata": {},
   "outputs": [
    {
     "name": "stdout",
     "output_type": "stream",
     "text": [
      "(28375, 58)\n"
     ]
    },
    {
     "data": {
      "text/html": [
       "<div>\n",
       "<style scoped>\n",
       "    .dataframe tbody tr th:only-of-type {\n",
       "        vertical-align: middle;\n",
       "    }\n",
       "\n",
       "    .dataframe tbody tr th {\n",
       "        vertical-align: top;\n",
       "    }\n",
       "\n",
       "    .dataframe thead th {\n",
       "        text-align: right;\n",
       "    }\n",
       "</style>\n",
       "<table border=\"1\" class=\"dataframe\">\n",
       "  <thead>\n",
       "    <tr style=\"text-align: right;\">\n",
       "      <th></th>\n",
       "      <th>host_listings_count</th>\n",
       "      <th>zipcode</th>\n",
       "      <th>latitude</th>\n",
       "      <th>longitude</th>\n",
       "      <th>accommodates</th>\n",
       "      <th>bathrooms</th>\n",
       "      <th>bedrooms</th>\n",
       "      <th>beds</th>\n",
       "      <th>price</th>\n",
       "      <th>cleaning_fee</th>\n",
       "      <th>...</th>\n",
       "      <th>property_type_Condominium</th>\n",
       "      <th>property_type_Guest suite</th>\n",
       "      <th>property_type_Guesthouse</th>\n",
       "      <th>property_type_Hostel</th>\n",
       "      <th>property_type_Hotel</th>\n",
       "      <th>property_type_House</th>\n",
       "      <th>property_type_Loft</th>\n",
       "      <th>property_type_Other</th>\n",
       "      <th>property_type_Serviced apartment</th>\n",
       "      <th>property_type_Villa</th>\n",
       "    </tr>\n",
       "  </thead>\n",
       "  <tbody>\n",
       "    <tr>\n",
       "      <th>0</th>\n",
       "      <td>2.0</td>\n",
       "      <td>22020050.0</td>\n",
       "      <td>-22.96592</td>\n",
       "      <td>-43.17896</td>\n",
       "      <td>5</td>\n",
       "      <td>1.0</td>\n",
       "      <td>2.0</td>\n",
       "      <td>2.0</td>\n",
       "      <td>188.0</td>\n",
       "      <td>250.0</td>\n",
       "      <td>...</td>\n",
       "      <td>1</td>\n",
       "      <td>0</td>\n",
       "      <td>0</td>\n",
       "      <td>0</td>\n",
       "      <td>0</td>\n",
       "      <td>0</td>\n",
       "      <td>0</td>\n",
       "      <td>0</td>\n",
       "      <td>0</td>\n",
       "      <td>0</td>\n",
       "    </tr>\n",
       "    <tr>\n",
       "      <th>1</th>\n",
       "      <td>0.0</td>\n",
       "      <td>22420010.0</td>\n",
       "      <td>-22.98467</td>\n",
       "      <td>-43.19611</td>\n",
       "      <td>6</td>\n",
       "      <td>2.0</td>\n",
       "      <td>2.0</td>\n",
       "      <td>4.0</td>\n",
       "      <td>442.0</td>\n",
       "      <td>277.0</td>\n",
       "      <td>...</td>\n",
       "      <td>0</td>\n",
       "      <td>0</td>\n",
       "      <td>0</td>\n",
       "      <td>0</td>\n",
       "      <td>0</td>\n",
       "      <td>0</td>\n",
       "      <td>0</td>\n",
       "      <td>0</td>\n",
       "      <td>0</td>\n",
       "      <td>0</td>\n",
       "    </tr>\n",
       "    <tr>\n",
       "      <th>2</th>\n",
       "      <td>3.0</td>\n",
       "      <td>22060020.0</td>\n",
       "      <td>-22.97712</td>\n",
       "      <td>-43.19045</td>\n",
       "      <td>2</td>\n",
       "      <td>1.0</td>\n",
       "      <td>1.0</td>\n",
       "      <td>2.0</td>\n",
       "      <td>160.0</td>\n",
       "      <td>250.0</td>\n",
       "      <td>...</td>\n",
       "      <td>0</td>\n",
       "      <td>0</td>\n",
       "      <td>0</td>\n",
       "      <td>0</td>\n",
       "      <td>0</td>\n",
       "      <td>0</td>\n",
       "      <td>0</td>\n",
       "      <td>0</td>\n",
       "      <td>0</td>\n",
       "      <td>0</td>\n",
       "    </tr>\n",
       "    <tr>\n",
       "      <th>3</th>\n",
       "      <td>1.0</td>\n",
       "      <td>22410003.0</td>\n",
       "      <td>-22.98302</td>\n",
       "      <td>-43.21427</td>\n",
       "      <td>3</td>\n",
       "      <td>1.0</td>\n",
       "      <td>1.0</td>\n",
       "      <td>1.0</td>\n",
       "      <td>359.0</td>\n",
       "      <td>111.0</td>\n",
       "      <td>...</td>\n",
       "      <td>0</td>\n",
       "      <td>0</td>\n",
       "      <td>0</td>\n",
       "      <td>0</td>\n",
       "      <td>0</td>\n",
       "      <td>0</td>\n",
       "      <td>0</td>\n",
       "      <td>0</td>\n",
       "      <td>0</td>\n",
       "      <td>0</td>\n",
       "    </tr>\n",
       "    <tr>\n",
       "      <th>4</th>\n",
       "      <td>1.0</td>\n",
       "      <td>22081020.0</td>\n",
       "      <td>-22.98816</td>\n",
       "      <td>-43.19359</td>\n",
       "      <td>2</td>\n",
       "      <td>1.5</td>\n",
       "      <td>1.0</td>\n",
       "      <td>1.0</td>\n",
       "      <td>495.0</td>\n",
       "      <td>225.0</td>\n",
       "      <td>...</td>\n",
       "      <td>0</td>\n",
       "      <td>0</td>\n",
       "      <td>0</td>\n",
       "      <td>0</td>\n",
       "      <td>0</td>\n",
       "      <td>0</td>\n",
       "      <td>0</td>\n",
       "      <td>0</td>\n",
       "      <td>0</td>\n",
       "      <td>0</td>\n",
       "    </tr>\n",
       "  </tbody>\n",
       "</table>\n",
       "<p>5 rows × 58 columns</p>\n",
       "</div>"
      ],
      "text/plain": [
       "   host_listings_count     zipcode  latitude  longitude  accommodates  \\\n",
       "0                  2.0  22020050.0 -22.96592  -43.17896             5   \n",
       "1                  0.0  22420010.0 -22.98467  -43.19611             6   \n",
       "2                  3.0  22060020.0 -22.97712  -43.19045             2   \n",
       "3                  1.0  22410003.0 -22.98302  -43.21427             3   \n",
       "4                  1.0  22081020.0 -22.98816  -43.19359             2   \n",
       "\n",
       "   bathrooms  bedrooms  beds  price  cleaning_fee  ...  \\\n",
       "0        1.0       2.0   2.0  188.0         250.0  ...   \n",
       "1        2.0       2.0   4.0  442.0         277.0  ...   \n",
       "2        1.0       1.0   2.0  160.0         250.0  ...   \n",
       "3        1.0       1.0   1.0  359.0         111.0  ...   \n",
       "4        1.5       1.0   1.0  495.0         225.0  ...   \n",
       "\n",
       "   property_type_Condominium  property_type_Guest suite  \\\n",
       "0                          1                          0   \n",
       "1                          0                          0   \n",
       "2                          0                          0   \n",
       "3                          0                          0   \n",
       "4                          0                          0   \n",
       "\n",
       "   property_type_Guesthouse  property_type_Hostel  property_type_Hotel  \\\n",
       "0                         0                     0                    0   \n",
       "1                         0                     0                    0   \n",
       "2                         0                     0                    0   \n",
       "3                         0                     0                    0   \n",
       "4                         0                     0                    0   \n",
       "\n",
       "   property_type_House  property_type_Loft  property_type_Other  \\\n",
       "0                    0                   0                    0   \n",
       "1                    0                   0                    0   \n",
       "2                    0                   0                    0   \n",
       "3                    0                   0                    0   \n",
       "4                    0                   0                    0   \n",
       "\n",
       "   property_type_Serviced apartment  property_type_Villa  \n",
       "0                                 0                    0  \n",
       "1                                 0                    0  \n",
       "2                                 0                    0  \n",
       "3                                 0                    0  \n",
       "4                                 0                    0  \n",
       "\n",
       "[5 rows x 58 columns]"
      ]
     },
     "execution_count": 39,
     "metadata": {},
     "output_type": "execute_result"
    }
   ],
   "source": [
    "one_hot = pd.get_dummies(df_listings['property_type'], prefix=\"property_type\")\n",
    "df_listings = df_listings.join(one_hot)\n",
    "\n",
    "df_listings = df_listings.drop(['property_type'], axis=1)\n",
    "\n",
    "print(df_listings.shape)\n",
    "df_listings.head()"
   ]
  },
  {
   "cell_type": "markdown",
   "metadata": {},
   "source": [
    "## processa latlong para funcionar com 'aproximação'"
   ]
  },
  {
   "cell_type": "code",
   "execution_count": 40,
   "metadata": {},
   "outputs": [],
   "source": [
    "# df_listings.latitude = df_listings.latitude.round(3)\n",
    "# df_listings.longitude = df_listings.longitude.round(3)"
   ]
  },
  {
   "cell_type": "markdown",
   "metadata": {},
   "source": [
    "## Cria dataset para avaliação dos modelos"
   ]
  },
  {
   "cell_type": "code",
   "execution_count": 41,
   "metadata": {},
   "outputs": [
    {
     "data": {
      "text/plain": [
       "((28375, 57), (28375,))"
      ]
     },
     "execution_count": 41,
     "metadata": {},
     "output_type": "execute_result"
    }
   ],
   "source": [
    "X = df_listings.drop(['price'],axis=1)\n",
    "y = df_listings['price']\n",
    "X.shape, y.shape"
   ]
  },
  {
   "cell_type": "code",
   "execution_count": 42,
   "metadata": {},
   "outputs": [
    {
     "data": {
      "text/plain": [
       "((22700, 57), (5675, 57), (22700,), (5675,))"
      ]
     },
     "execution_count": 42,
     "metadata": {},
     "output_type": "execute_result"
    }
   ],
   "source": [
    "X_train, X_test, y_train, y_test = train_test_split(X, y, test_size=0.2, random_state=42)\n",
    "X_train.shape, X_test.shape, y_train.shape, y_test.shape"
   ]
  },
  {
   "cell_type": "markdown",
   "metadata": {},
   "source": [
    "### Funções utilitárias"
   ]
  },
  {
   "cell_type": "code",
   "execution_count": 43,
   "metadata": {},
   "outputs": [],
   "source": [
    "def fit_validate(regressor, X_train, X_test, y_train, y_test):\n",
    "    regressor.fit(X_train, y_train)\n",
    "    train_predict = regressor.predict(X_train)\n",
    "    test_predict = regressor.predict(X_test)\n",
    "    \n",
    "    mse_train = mean_squared_error(y_train, train_predict)\n",
    "    mse_test = mean_squared_error(y_test, test_predict)\n",
    "    \n",
    "    rmse_train = math.sqrt(mse_train)\n",
    "    rmse_test = math.sqrt(mse_test)\n",
    "    \n",
    "    r2_train = r2_score(y_train, train_predict)\n",
    "    r2_test = r2_score(y_test, test_predict)\n",
    "    \n",
    "    print(\"MSE Train: %.2f\" % mse_train)\n",
    "    print(\"MSE Test: %.2f\"  % mse_test)\n",
    "    print(\"RMSE Train: %.2f\" % rmse_train)\n",
    "    print(\"RMSE Test: %.2f\"  % rmse_test)\n",
    "    print('R2 Train: %.2f' % r2_train)\n",
    "    print('R2 Test: %.2f' % r2_test)\n",
    "    \n",
    "    df_rmse = pd.DataFrame([rmse_train,rmse_test], columns=['RMSE'], index=['train','test'])\n",
    "    df_rmse.plot.bar()"
   ]
  },
  {
   "cell_type": "code",
   "execution_count": 44,
   "metadata": {},
   "outputs": [],
   "source": [
    "def plot_feature_importances(regressor, X_train, is_forest=False):\n",
    "    importances = regressor.feature_importances_\n",
    "    \n",
    "    indices = np.argsort(importances)[::-1]\n",
    "    \n",
    "    if(is_forest):\n",
    "        std = np.std([tree.feature_importances_ for tree in regressor.estimators_],\n",
    "                     axis=0)\n",
    "        std = std[indices]\n",
    "    else:\n",
    "        std= None\n",
    "        \n",
    "    \n",
    "\n",
    "    #Print the feature ranking\n",
    "    print(\"Feature ranking:\")\n",
    "\n",
    "    for f in range(X_train.shape[1]):\n",
    "\n",
    "        print(\"%d. feature %s (%f)\" % (f + 1, X_train.columns[indices[f]], importances[indices[f]]))\n",
    "\n",
    "    # Plot the feature importances of the forest\n",
    "    plt.figure()\n",
    "    plt.title(\"Feature importances\")\n",
    "    plt.bar(range(X_train.shape[1]), importances[indices],\n",
    "           color=\"r\", yerr=std, align=\"center\")\n",
    "    plt.xticks(range(X_train.shape[1]), X_train.columns[indices],rotation=90)\n",
    "    plt.xlim([-1, X_train.shape[1]])\n",
    "    plt.show()"
   ]
  },
  {
   "cell_type": "code",
   "execution_count": 45,
   "metadata": {},
   "outputs": [],
   "source": [
    "#Visualização de previstos vs true_labels\n",
    "#fonte: https://towardsdatascience.com/predicting-airbnb-prices-with-machine-learning-and-deep-learning-f46d44afb8a6\n",
    "def plot_predicted_vs_true_label(regressor, X_train, X_test, y_train, y_test):\n",
    "    y_test_pred = regressor.predict(X_test)\n",
    "    y_train_pred = regressor.predict(X_train)\n",
    "    \n",
    "    fig, (ax1, ax2) = plt.subplots(1, 2, figsize=(12, 4))\n",
    "    fig.suptitle('Predicted vs. actual values', fontsize=14, y=1)\n",
    "    plt.subplots_adjust(top=0.93, wspace=0)\n",
    "\n",
    "    ax1.scatter(y_test, y_test_pred, s=2, alpha=0.7)\n",
    "    ax1.plot(list(range(2,2000)), list(range(2,2000)), color='black', linestyle='--')\n",
    "    ax1.set_title('Test set')\n",
    "    ax1.set_xlabel('Actual values')\n",
    "    ax1.set_ylabel('Predicted values')\n",
    "\n",
    "    ax2.scatter(y_train, y_train_pred, s=2, alpha=0.7)\n",
    "    ax2.plot(list(range(2,2000)), list(range(2,2000)), color='black', linestyle='--')\n",
    "    ax2.set_title('Train set')\n",
    "    ax2.set_xlabel('Actual values')\n",
    "    ax2.set_ylabel('')\n",
    "    ax2.set_yticklabels(labels='')\n",
    "\n",
    "    plt.show()"
   ]
  },
  {
   "cell_type": "code",
   "execution_count": 46,
   "metadata": {},
   "outputs": [
    {
     "name": "stdout",
     "output_type": "stream",
     "text": [
      "MSE Train: 11010.62\n",
      "MSE Test: 76888.43\n",
      "RMSE Train: 104.93\n",
      "RMSE Test: 277.29\n",
      "R2 Train: 0.92\n",
      "R2 Test: 0.48\n"
     ]
    },
    {
     "data": {
      "image/png": "[encoded data removed]",
      "text/plain": [
       "<Figure size 432x288 with 1 Axes>"
      ]
     },
     "metadata": {
      "needs_background": "light"
     },
     "output_type": "display_data"
    }
   ],
   "source": [
    "reg = RandomForestRegressor() \n",
    "\n",
    "fit_validate(reg, X_train, X_test, y_train, y_test)"
   ]
  },
  {
   "cell_type": "code",
   "execution_count": 47,
   "metadata": {},
   "outputs": [
    {
     "name": "stdout",
     "output_type": "stream",
     "text": [
      "Feature ranking:\n",
      "1. feature bedrooms (0.214098)\n",
      "2. feature number_of_reviews (0.125719)\n",
      "3. feature latitude (0.104811)\n",
      "4. feature longitude (0.092960)\n",
      "5. feature cleaning_fee (0.081246)\n",
      "6. feature zipcode (0.074691)\n",
      "7. feature bathrooms (0.054792)\n",
      "8. feature minimum_nights (0.054180)\n",
      "9. feature accommodates (0.039659)\n",
      "10. feature host_listings_count (0.037373)\n",
      "11. feature beds (0.028465)\n",
      "12. feature guests_included (0.016693)\n",
      "13. feature property_type_Apartment (0.007714)\n",
      "14. feature neighbourhood_Leblon (0.005836)\n",
      "15. feature neighbourhood_Ipanema (0.004868)\n",
      "16. feature host_identity_verified_t (0.004848)\n",
      "17. feature host_identity_verified_f (0.004713)\n",
      "18. feature neighbourhood_Barra da Tijuca (0.004178)\n",
      "19. feature neighbourhood_Copacabana (0.003599)\n",
      "20. feature property_type_House (0.003419)\n",
      "21. feature neighbourhood_Jacarepaguá (0.003043)\n",
      "22. feature property_type_Condominium (0.002923)\n",
      "23. feature neighbourhood_Lagoa (0.002804)\n",
      "24. feature neighbourhood_Botafogo (0.002139)\n",
      "25. feature neighbourhood_Maracanã (0.001777)\n",
      "26. feature neighbourhood_Gávea (0.001666)\n",
      "27. feature property_type_Serviced apartment (0.001565)\n",
      "28. feature neighbourhood_Flamengo (0.001481)\n",
      "29. feature neighbourhood_Laranjeiras (0.001473)\n",
      "30. feature neighbourhood_Tijuca (0.001265)\n",
      "31. feature neighbourhood_Camorim (0.001195)\n",
      "32. feature neighbourhood_Jardim Botânico (0.001169)\n",
      "33. feature neighbourhood_Santa Teresa (0.001130)\n",
      "34. feature neighbourhood_Itanhangá (0.000986)\n",
      "35. feature property_type_Loft (0.000954)\n",
      "36. feature neighbourhood_Humaitá (0.000952)\n",
      "37. feature neighbourhood_Catete (0.000918)\n",
      "38. feature neighbourhood_Leme (0.000847)\n",
      "39. feature neighbourhood_São Conrado (0.000797)\n",
      "40. feature neighbourhood_Recreio dos Bandeirantes (0.000752)\n",
      "41. feature neighbourhood_Vila Isabel (0.000723)\n",
      "42. feature neighbourhood_Vidigal (0.000551)\n",
      "43. feature neighbourhood_Glória (0.000523)\n",
      "44. feature neighbourhood_Freguesia (Jacarepaguá) (0.000511)\n",
      "45. feature neighbourhood_Rio Comprido (0.000500)\n",
      "46. feature neighbourhood_Vargem Pequena (0.000466)\n",
      "47. feature property_type_Bed and breakfast (0.000430)\n",
      "48. feature neighbourhood_Centro (0.000373)\n",
      "49. feature neighbourhood_Cosme Velho (0.000367)\n",
      "50. feature property_type_Guest suite (0.000366)\n",
      "51. feature property_type_Other (0.000352)\n",
      "52. feature neighbourhood_Urca (0.000336)\n",
      "53. feature neighbourhood_Taquara (0.000307)\n",
      "54. feature property_type_Villa (0.000167)\n",
      "55. feature property_type_Hotel (0.000154)\n",
      "56. feature property_type_Hostel (0.000096)\n",
      "57. feature property_type_Guesthouse (0.000080)\n"
     ]
    },
    {
     "data": {
      "image/png": "[encoded data removed]",
      "text/plain": [
       "<Figure size 720x360 with 1 Axes>"
      ]
     },
     "metadata": {
      "needs_background": "light"
     },
     "output_type": "display_data"
    }
   ],
   "source": [
    "plt.rcParams['figure.figsize'] = [10, 5]\n",
    "plot_feature_importances(reg, X_train, is_forest=True)"
   ]
  },
  {
   "cell_type": "code",
   "execution_count": 48,
   "metadata": {},
   "outputs": [
    {
     "data": {
      "image/png": "[encoded data removed]",
      "text/plain": [
       "<Figure size 864x288 with 2 Axes>"
      ]
     },
     "metadata": {
      "needs_background": "light"
     },
     "output_type": "display_data"
    }
   ],
   "source": [
    "plot_predicted_vs_true_label(reg, X_train, X_test, y_train, y_test)"
   ]
  },
  {
   "cell_type": "markdown",
   "metadata": {},
   "source": [
    "## Segundo round, após remoção de features irrelevantes"
   ]
  },
  {
   "cell_type": "code",
   "execution_count": 49,
   "metadata": {},
   "outputs": [
    {
     "data": {
      "text/html": [
       "<div>\n",
       "<style scoped>\n",
       "    .dataframe tbody tr th:only-of-type {\n",
       "        vertical-align: middle;\n",
       "    }\n",
       "\n",
       "    .dataframe tbody tr th {\n",
       "        vertical-align: top;\n",
       "    }\n",
       "\n",
       "    .dataframe thead th {\n",
       "        text-align: right;\n",
       "    }\n",
       "</style>\n",
       "<table border=\"1\" class=\"dataframe\">\n",
       "  <thead>\n",
       "    <tr style=\"text-align: right;\">\n",
       "      <th></th>\n",
       "      <th>host_listings_count</th>\n",
       "      <th>zipcode</th>\n",
       "      <th>latitude</th>\n",
       "      <th>longitude</th>\n",
       "      <th>accommodates</th>\n",
       "      <th>bathrooms</th>\n",
       "      <th>bedrooms</th>\n",
       "      <th>beds</th>\n",
       "      <th>price</th>\n",
       "      <th>cleaning_fee</th>\n",
       "      <th>guests_included</th>\n",
       "      <th>minimum_nights</th>\n",
       "      <th>number_of_reviews</th>\n",
       "    </tr>\n",
       "  </thead>\n",
       "  <tbody>\n",
       "    <tr>\n",
       "      <th>0</th>\n",
       "      <td>2.0</td>\n",
       "      <td>22020050.0</td>\n",
       "      <td>-22.96592</td>\n",
       "      <td>-43.17896</td>\n",
       "      <td>5</td>\n",
       "      <td>1.0</td>\n",
       "      <td>2.0</td>\n",
       "      <td>2.0</td>\n",
       "      <td>188.0</td>\n",
       "      <td>250.0</td>\n",
       "      <td>2</td>\n",
       "      <td>7</td>\n",
       "      <td>251</td>\n",
       "    </tr>\n",
       "    <tr>\n",
       "      <th>1</th>\n",
       "      <td>0.0</td>\n",
       "      <td>22420010.0</td>\n",
       "      <td>-22.98467</td>\n",
       "      <td>-43.19611</td>\n",
       "      <td>6</td>\n",
       "      <td>2.0</td>\n",
       "      <td>2.0</td>\n",
       "      <td>4.0</td>\n",
       "      <td>442.0</td>\n",
       "      <td>277.0</td>\n",
       "      <td>6</td>\n",
       "      <td>5</td>\n",
       "      <td>94</td>\n",
       "    </tr>\n",
       "    <tr>\n",
       "      <th>2</th>\n",
       "      <td>3.0</td>\n",
       "      <td>22060020.0</td>\n",
       "      <td>-22.97712</td>\n",
       "      <td>-43.19045</td>\n",
       "      <td>2</td>\n",
       "      <td>1.0</td>\n",
       "      <td>1.0</td>\n",
       "      <td>2.0</td>\n",
       "      <td>160.0</td>\n",
       "      <td>250.0</td>\n",
       "      <td>2</td>\n",
       "      <td>7</td>\n",
       "      <td>238</td>\n",
       "    </tr>\n",
       "    <tr>\n",
       "      <th>3</th>\n",
       "      <td>1.0</td>\n",
       "      <td>22410003.0</td>\n",
       "      <td>-22.98302</td>\n",
       "      <td>-43.21427</td>\n",
       "      <td>3</td>\n",
       "      <td>1.0</td>\n",
       "      <td>1.0</td>\n",
       "      <td>1.0</td>\n",
       "      <td>359.0</td>\n",
       "      <td>111.0</td>\n",
       "      <td>2</td>\n",
       "      <td>2</td>\n",
       "      <td>282</td>\n",
       "    </tr>\n",
       "    <tr>\n",
       "      <th>4</th>\n",
       "      <td>1.0</td>\n",
       "      <td>22081020.0</td>\n",
       "      <td>-22.98816</td>\n",
       "      <td>-43.19359</td>\n",
       "      <td>2</td>\n",
       "      <td>1.5</td>\n",
       "      <td>1.0</td>\n",
       "      <td>1.0</td>\n",
       "      <td>495.0</td>\n",
       "      <td>225.0</td>\n",
       "      <td>2</td>\n",
       "      <td>2</td>\n",
       "      <td>181</td>\n",
       "    </tr>\n",
       "  </tbody>\n",
       "</table>\n",
       "</div>"
      ],
      "text/plain": [
       "   host_listings_count     zipcode  latitude  longitude  accommodates  \\\n",
       "0                  2.0  22020050.0 -22.96592  -43.17896             5   \n",
       "1                  0.0  22420010.0 -22.98467  -43.19611             6   \n",
       "2                  3.0  22060020.0 -22.97712  -43.19045             2   \n",
       "3                  1.0  22410003.0 -22.98302  -43.21427             3   \n",
       "4                  1.0  22081020.0 -22.98816  -43.19359             2   \n",
       "\n",
       "   bathrooms  bedrooms  beds  price  cleaning_fee  guests_included  \\\n",
       "0        1.0       2.0   2.0  188.0         250.0                2   \n",
       "1        2.0       2.0   4.0  442.0         277.0                6   \n",
       "2        1.0       1.0   2.0  160.0         250.0                2   \n",
       "3        1.0       1.0   1.0  359.0         111.0                2   \n",
       "4        1.5       1.0   1.0  495.0         225.0                2   \n",
       "\n",
       "   minimum_nights  number_of_reviews  \n",
       "0               7                251  \n",
       "1               5                 94  \n",
       "2               7                238  \n",
       "3               2                282  \n",
       "4               2                181  "
      ]
     },
     "execution_count": 49,
     "metadata": {},
     "output_type": "execute_result"
    }
   ],
   "source": [
    "df_listings2 = df_listings2.drop(columns=['host_identity_verified','neighbourhood_cleansed','property_type'])\n",
    "df_listings2.head()"
   ]
  },
  {
   "cell_type": "code",
   "execution_count": 50,
   "metadata": {},
   "outputs": [
    {
     "data": {
      "text/plain": [
       "((28375, 12), (28375,))"
      ]
     },
     "execution_count": 50,
     "metadata": {},
     "output_type": "execute_result"
    }
   ],
   "source": [
    "X = df_listings2.drop(['price'],axis=1)\n",
    "y = df_listings2['price']\n",
    "X.shape, y.shape"
   ]
  },
  {
   "cell_type": "code",
   "execution_count": 51,
   "metadata": {},
   "outputs": [
    {
     "data": {
      "text/plain": [
       "((25537, 12), (2838, 12), (25537,), (2838,))"
      ]
     },
     "execution_count": 51,
     "metadata": {},
     "output_type": "execute_result"
    }
   ],
   "source": [
    "X_train, X_test, y_train, y_test = train_test_split(X, y, test_size=0.1, random_state=42)\n",
    "X_train.shape, X_test.shape, y_train.shape, y_test.shape"
   ]
  },
  {
   "cell_type": "code",
   "execution_count": 52,
   "metadata": {},
   "outputs": [
    {
     "name": "stdout",
     "output_type": "stream",
     "text": [
      "MSE Train: 10804.96\n",
      "MSE Test: 80002.50\n",
      "RMSE Train: 103.95\n",
      "RMSE Test: 282.85\n",
      "R2 Train: 0.93\n",
      "R2 Test: 0.48\n"
     ]
    },
    {
     "data": {
      "image/png": "[encoded data removed]",
      "text/plain": [
       "<Figure size 720x360 with 1 Axes>"
      ]
     },
     "metadata": {
      "needs_background": "light"
     },
     "output_type": "display_data"
    }
   ],
   "source": [
    "reg = RandomForestRegressor() \n",
    "\n",
    "fit_validate(reg, X_train, X_test, y_train, y_test)"
   ]
  },
  {
   "cell_type": "code",
   "execution_count": 53,
   "metadata": {},
   "outputs": [
    {
     "name": "stdout",
     "output_type": "stream",
     "text": [
      "Feature ranking:\n",
      "1. feature bedrooms (0.216797)\n",
      "2. feature number_of_reviews (0.127347)\n",
      "3. feature latitude (0.121102)\n",
      "4. feature longitude (0.112848)\n",
      "5. feature zipcode (0.087425)\n",
      "6. feature cleaning_fee (0.084523)\n",
      "7. feature bathrooms (0.057382)\n",
      "8. feature minimum_nights (0.057193)\n",
      "9. feature accommodates (0.044037)\n",
      "10. feature host_listings_count (0.041661)\n",
      "11. feature beds (0.031439)\n",
      "12. feature guests_included (0.018244)\n"
     ]
    },
    {
     "data": {
      "image/png": "[encoded data removed]",
      "text/plain": [
       "<Figure size 720x360 with 1 Axes>"
      ]
     },
     "metadata": {
      "needs_background": "light"
     },
     "output_type": "display_data"
    }
   ],
   "source": [
    "plt.rcParams['figure.figsize'] = [10, 5]\n",
    "plot_feature_importances(reg, X_train, is_forest=True)"
   ]
  },
  {
   "cell_type": "code",
   "execution_count": 54,
   "metadata": {},
   "outputs": [
    {
     "data": {
      "image/png": "[encoded data removed]",
      "text/plain": [
       "<Figure size 864x288 with 2 Axes>"
      ]
     },
     "metadata": {
      "needs_background": "light"
     },
     "output_type": "display_data"
    }
   ],
   "source": [
    "plot_predicted_vs_true_label(reg, X_train, X_test, y_train, y_test)"
   ]
  },
  {
   "cell_type": "code",
   "execution_count": 55,
   "metadata": {},
   "outputs": [
    {
     "name": "stderr",
     "output_type": "stream",
     "text": [
      "/home/chris/anaconda3/lib/python3.7/site-packages/xgboost/core.py:587: FutureWarning: Series.base is deprecated and will be removed in a future version\n",
      "  if getattr(data, 'base', None) is not None and \\\n"
     ]
    },
    {
     "name": "stdout",
     "output_type": "stream",
     "text": [
      "[11:23:24] WARNING: /home/conda/feedstock_root/build_artifacts/xgboost_1566327313563/work/src/objective/regression_obj.cu:152: reg:linear is now deprecated in favor of reg:squarederror.\n",
      "MSE Train: 72951.78\n",
      "MSE Test: 78998.07\n",
      "RMSE Train: 270.10\n",
      "RMSE Test: 281.07\n",
      "R2 Train: 0.50\n",
      "R2 Test: 0.49\n"
     ]
    },
    {
     "data": {
      "image/png": "[encoded data removed]",
      "text/plain": [
       "<Figure size 720x360 with 1 Axes>"
      ]
     },
     "metadata": {
      "needs_background": "light"
     },
     "output_type": "display_data"
    }
   ],
   "source": [
    "import xgboost as xgb\n",
    "\n",
    "xgb_reg = xgb.XGBRegressor()\n",
    "\n",
    "fit_validate(xgb_reg, X_train, X_test, y_train, y_test)"
   ]
  },
  {
   "cell_type": "code",
   "execution_count": 56,
   "metadata": {},
   "outputs": [
    {
     "name": "stdout",
     "output_type": "stream",
     "text": [
      "Feature ranking:\n",
      "1. feature bedrooms (0.432019)\n",
      "2. feature number_of_reviews (0.159385)\n",
      "3. feature bathrooms (0.130332)\n",
      "4. feature cleaning_fee (0.058637)\n",
      "5. feature accommodates (0.057844)\n",
      "6. feature minimum_nights (0.045149)\n",
      "7. feature guests_included (0.026640)\n",
      "8. feature latitude (0.024256)\n",
      "9. feature longitude (0.022288)\n",
      "10. feature host_listings_count (0.020088)\n",
      "11. feature zipcode (0.016485)\n",
      "12. feature beds (0.006878)\n"
     ]
    },
    {
     "data": {
      "image/png": "[encoded data removed]",
      "text/plain": [
       "<Figure size 720x360 with 1 Axes>"
      ]
     },
     "metadata": {
      "needs_background": "light"
     },
     "output_type": "display_data"
    }
   ],
   "source": [
    "plot_feature_importances(xgb_reg, X_train, is_forest=False)"
   ]
  },
  {
   "cell_type": "code",
   "execution_count": 57,
   "metadata": {},
   "outputs": [
    {
     "data": {
      "image/png": "[encoded data removed]",
      "text/plain": [
       "<Figure size 864x288 with 2 Axes>"
      ]
     },
     "metadata": {
      "needs_background": "light"
     },
     "output_type": "display_data"
    }
   ],
   "source": [
    "plot_predicted_vs_true_label(xgb_reg, X_train, X_test, y_train, y_test)"
   ]
  },
  {
   "cell_type": "code",
   "execution_count": null,
   "metadata": {},
   "outputs": [],
   "source": []
  }
 ],
 "metadata": {
  "kernelspec": {
   "display_name": "Python 3",
   "language": "python",
   "name": "python3"
  },
  "language_info": {
   "codemirror_mode": {
    "name": "ipython",
    "version": 3
   },
   "file_extension": ".py",
   "mimetype": "text/x-python",
   "name": "python",
   "nbconvert_exporter": "python",
   "pygments_lexer": "ipython3",
   "version": "3.7.3"
  }
 },
 "nbformat": 4,
 "nbformat_minor": 2
}
